{
 "metadata": {
  "name": ""
 },
 "nbformat": 3,
 "nbformat_minor": 0,
 "worksheets": [
  {
   "cells": [
    {
     "cell_type": "markdown",
     "metadata": {},
     "source": [
      "**Tentative Abstract** \n",
      "\n",
      "Open collaboration projects, at the root of Wikipedia and open source software, usually involve large communities of peer-production contributors, with a broad variety of skills and motives \\cite{haefliger et al. 2012}, which to evolve over time as contributors are (self-)encouraged to lurk into other's work, to get inspired, to learn, and to correct (peer-review). Also the amount of contribution tells very little on the actual performance of a contributor. Some critical contributions are very tiny (in word count), while other long contributions, add very little. From another perspective, open collaboration is about collective work, and one might question how a collective work, with multiple contributors, can lead to better quality, or not. We propose that both questions can only be addressed by jointly investigating both sides of the coin. For that, we introduce and use a framework for analyzing bi-partite networks of collective knowledge production (say more on the method), with two types of nodes : \"contributors\" and \"products\". We test this framework for several Categories of articles on Wikipedia, with contributors being the users and products the pages. We find that ...\n"
     ]
    },
    {
     "cell_type": "markdown",
     "metadata": {},
     "source": [
      "**Note on Snapshots**\n",
      "\n",
      "There is a discussion on whether we should use snapshots or cumulative snapshots. The questions refers to the \"economic\" value of the measure. Is it more relevant to measure the accumulative experience by contributors (i.e. favor cumulative snapshots), or rather the work over a given period ? Both metrics are valid, but because activity on websites is generally more cumulative than anything else, we'll start we cumulative snapshots. Hence, snapshot at $t+1$ will incorporate information from snapshot at $t$."
     ]
    },
    {
     "cell_type": "markdown",
     "metadata": {},
     "source": [
      "**Note on Background Literature**\n",
      "\n",
      "I found three additional papers by the same authors, I had not seen before [3,4,5], in addition to ones already found in plosone [1,2]. It's all conceptually more of the same, but they repeatedly try to solve the convergence issue. To me only [1,3] are of real interest.\n",
      "\n",
      "In [1], they develop an interesting mathematical formalism, which reaches a pinacle in formula (19). I like the idea of a random walker searching the edges of the network. I really recommend that you go through it, and let me know what you think. In my opinion, this paper should be the technical backbone of our adaptation to Wikipedia. The two things that are unclear to me are : (i) they say repeatedly that the eigenvalues <=1, and that's why the algorithm converges. However, with our matrix I don't find that eigenvalues <=1. Do you mind trying too ? and (ii)  to derive an analytical solution to the problem, they apply the balance condition (18). I am still unclear how it might be a problem for us or not. Well I should maybe dive again in the thing to find out, but maybe you already figured out, that's why I am lazy and I prefer asking :)\n",
      "\n",
      "In [3], they have another approach defined by formula (1). As you can see, they multiply by the inverse of Fc to get Qp, and they normalize. I don't remember that I inversed Fc to make my non-converging scores (in the plots I showed you last time), but I clearly remember having normalized at some point. By the way, in [1], they say that Hidalgo and Haussmann normalized, and this is bad according to them. I haven't completely gotten the subtlety of their argument, there.\n",
      "\n",
      "We have also overlooked the notion of Relative Comparative Advantage (RCA) as they use it. I see it as a way to filter out tuples (country,product), which are not significant. I think they used RCA to stick to commonly accepted concepts in economics. I have no idea how it would influences the all method applied to Wikipedia. My wild guess is that it does not influence a lot. Just if we want to filter out, we can do it in a neat way, which complies with economic theories ;-)\n",
      "\n",
      "In [5], they try to implement a theoretical version of the algorithm with a capability matrix. By the way, if we add the capabilities, it does not become a tensor problem, but rather a matrix multiplication problem : M = CCa*CaP with CCa : matrix of Countries-Capabilities and CaP : matrix of Capabilities-Products!\n",
      "\n",
      "Also in [3], they introduce a weighted matrix W. They explain that M reflects more the intensive nature of the economy (GDP/capita), while W is more on the extensive side (GDP). I am not sold by this mess of arguments, and in particular the way they present them. I think it's partly due to their non-native English speaking and writing, but still...it's tiring to read these papers. Note, that I don't say I could do much better, because I probably suffer the same problems, but at least, I am really willing to improve as much as possible. Also the scattering results in so many publications is really tiring, and incredibly close to self-plagiarism.\n",
      "\n",
      "Anyway, in a nutshell, I would propose that we try both methods [1] formula (19) and [3] formula (1). Do you have a chance to look at that until Thursday?  Also you have a chance to order the matrix M, by decreasing order on both sides, and to plot it like in [3] Figure 1, in order to check whether it is triangular also Wikipedia ? I am curious...\n",
      "\n",
      "[1] Caldarelli, G., Cristelli, M., Gabrielli, A., Pietronero, L., Scala, A., & Tacchella, A. (2012). A network analysis of countries' export flows: firm grounds for the building blocks of the economy. PloS one, 7 (10).\n",
      "\n",
      "[2] Cristelli, M., Gabrielli, A., Tacchella, A., Caldarelli, G., & Pietronero, L. (2013). Measuring the intangibles: A metrics for the economic complexity of countries and products. PloS one, 8 (8).\n",
      "\n",
      "[3] http://www.nature.com/srep/2012/121010/srep00723/full/srep00723.html\n",
      "\n",
      "[4] Cristelli, M., Tacchella, A., Gabrielli, A., Pietronero, L., Scala, A., & Caldarelli, G. (2012). Competitors' communities and taxonomy of products according to export fluxes. The European Physical Journal-Special Topics, 212 (1).\n",
      "\n",
      "[5] Tacchella, A., Cristelli, M., Caldarelli, G., Gabrielli, A., & Pietronero, L. (2013). Economic complexity: Conceptual grounding of a new metrics for global competitiveness. Journal of Economic Dynamics and Control. (c.f. attachment)\n",
      "\n",
      "\n"
     ]
    },
    {
     "cell_type": "markdown",
     "metadata": {},
     "source": [
      "**Note on Capabilities**\n",
      "\n",
      "On the capabilities, I thought that we could \"simply\" look at what words contributors tend to write in their edits. It would be a little more technical, as it needs to word-diff each version. But It's far from being infeasible. The capabilities would be then then basket of words that contributor employs. This very general metric would come in addition to the ones in your study, which should also be evaluated for each diff. I don't know yet, however, how it could articulate in a tensor of {contributors,capabilities,pages}. I just share this to keep it on records until make progress."
     ]
    },
    {
     "cell_type": "markdown",
     "metadata": {},
     "source": [
      "**Implementation of Method (19) in Caldarelli et al. Plos One, PLoS ONE 7(10), 2012**\n",
      "\n",
      "We Assume the balance condition holds here (**to be verified**), and we write the function for page and contributor fitness.\n",
      "\n"
     ]
    },
    {
     "cell_type": "code",
     "collapsed": false,
     "input": [],
     "language": "python",
     "metadata": {},
     "outputs": []
    },
    {
     "cell_type": "code",
     "collapsed": false,
     "input": [
      "import pywikibot\n",
      "from pywikibot import pagegenerators\n",
      "import datetime\n",
      "import pandas as pd\n",
      "import numpy as np\n",
      "from collections import defaultdict\n",
      "import datetime\n",
      "%pylab inline\n",
      "\n",
      "\n",
      "enwp, dewp, frwp = (pywikibot.Site(lang, 'wikipedia') for lang in ['en', 'de', 'fr'])"
     ],
     "language": "python",
     "metadata": {},
     "outputs": [
      {
       "output_type": "stream",
       "stream": "stdout",
       "text": [
        "Populating the interactive namespace from numpy and matplotlib\n"
       ]
      }
     ],
     "prompt_number": 11
    },
    {
     "cell_type": "code",
     "collapsed": false,
     "input": [
      "if not enwp.logged_in: enwp.login()"
     ],
     "language": "python",
     "metadata": {},
     "outputs": [],
     "prompt_number": 12
    },
    {
     "cell_type": "markdown",
     "metadata": {},
     "source": [
      "Later on if we like, we can do this for a category and all of its subcategories, but for now a simplification is just the articles in a category."
     ]
    },
    {
     "cell_type": "code",
     "collapsed": false,
     "input": [
      "def make_contributor_matrix(category_name=None, outlinks_page_name=None):\n",
      "\n",
      "    if category_name:\n",
      "        cat = pywikibot.Category(enwp, category_name)\n",
      "        articles = list(cat.articles())\n",
      "        save_name = category_name\n",
      "    if outlinks_page_name:\n",
      "        outlinks = pagegenerators.LinkedPageGenerator(pywikibot.Page(enwp, outlinks_page_name))\n",
      "        articles = filter(lambda page: page.namespace() == 0, outlinks)\n",
      "        save_name = outlinks_page_name\n",
      "    \n",
      "    load_article_revisions(articles)\n",
      "\n",
      "    contributor_df = make_dataframe(articles)\n",
      "    \n",
      "    save_name = save_name.replace('/', '___')\n",
      "    filename = 'savedata/' + save_name + unicode(datetime.datetime.now())\n",
      "    \n",
      "    minimum_edits_df = minimum_edits(contributor_df)\n",
      "    \n",
      "    minimum_matrix = minimum_edits_df.as_matrix()\n",
      "    \n",
      "    np.save(filename, minimum_matrix)\n",
      "    return minimum_matrix"
     ],
     "language": "python",
     "metadata": {},
     "outputs": [],
     "prompt_number": 34
    },
    {
     "cell_type": "code",
     "collapsed": false,
     "input": [
      "def load_article_revisions(articles):\n",
      "    def earliest_revision(article):\n",
      "        revisions  = list(article._revisions.itervalues())\n",
      "        timestamps = map(lambda r: r.timestamp, revisions)\n",
      "        earliest = min(timestamps)\n",
      "        return earliest\n",
      "    \n",
      "    def load_all_revisions(article):\n",
      "        before_count = len(article._revisions)\n",
      "        #print \"before \", before_count\n",
      "        if before_count == 0:\n",
      "            article.getVersionHistory()\n",
      "        else:\n",
      "            enwp.loadrevisions(page=article, starttime=earliest_revision(article))\n",
      "        after_count = len(article._revisions)\n",
      "        #print \"after \", after_count\n",
      "        if before_count == after_count:\n",
      "            return\n",
      "        else:\n",
      "            load_all_revisions(article)\n",
      "        \n",
      "    map(lambda article: load_all_revisions(article), articles)"
     ],
     "language": "python",
     "metadata": {},
     "outputs": [],
     "prompt_number": 3
    },
    {
     "cell_type": "code",
     "collapsed": false,
     "input": [
      "def make_dict_contributors(articles):\n",
      "    def contributors_articles_dict():\n",
      "        return defaultdict(int)\n",
      "    \n",
      "    contributors = defaultdict(contributors_articles_dict)\n",
      "    filtered_contributors = defaultdict(contributors_articles_dict)\n",
      "    \n",
      "    for article in articles:\n",
      "        for revid, revision_obj in article._revisions.iteritems():\n",
      "            user = revision_obj.user\n",
      "            contributors[user][article] += 1\n",
      "    \n",
      "            \n",
      "    for user, article_dict in contributors.iteritems():\n",
      "        for article, count in article_dict.iteritems():\n",
      "            if user:\n",
      "                if article:\n",
      "                    if count:\n",
      "                        filtered_contributors[user][article] = count\n",
      "                            \n",
      "    #print contributors == filtered_contributors\n",
      "            \n",
      "    return filtered_contributors"
     ],
     "language": "python",
     "metadata": {},
     "outputs": [],
     "prompt_number": 4
    },
    {
     "cell_type": "code",
     "collapsed": false,
     "input": [
      "def make_dataframe(articles):\n",
      "    contributor_dict = make_dict_contributors(articles)\n",
      "    contributor_df = pd.DataFrame.from_dict(data = contributor_dict, orient='index')\n",
      "    contributor_df = contributor_df.fillna(value=0)\n",
      "    contributor_df = contributor_df.convert_objects(convert_numeric=True)\n",
      "    \n",
      "    return contributor_df"
     ],
     "language": "python",
     "metadata": {},
     "outputs": [],
     "prompt_number": 5
    },
    {
     "cell_type": "code",
     "collapsed": false,
     "input": [
      "def minimum_edits(contributor_df, minimum=25):\n",
      "    mrows = contributor_df[contributor_df.apply(lambda row: any(row > 25), axis=1)]\n",
      "    #and now we have to clean to columns which are articles that no one contributed to in our remaining group\n",
      "    minimum_edits_df = mrows.loc[:,mrows.apply(lambda col: any(col > 0), axis=0)]\n",
      "    return minimum_edits_df"
     ],
     "language": "python",
     "metadata": {},
     "outputs": [],
     "prompt_number": 6
    },
    {
     "cell_type": "markdown",
     "metadata": {},
     "source": [
      "FQ returns a tuple of lenght two. The first item is the an matrix containing the fitness vectors of each Matrix M, the row of the matrix reprents the iteration step. The second item is the same but of the ubiquity vectors. These measures derive from [this paper](http://chidalgo.com/Papers/HidalgoHausmann_PNAS_2009_PaperAndSM.pdf)."
     ]
    },
    {
     "cell_type": "markdown",
     "metadata": {},
     "source": [
      "  $f^{(0)}_{c} =\\sum^{N_p}_{p=1} M_{cp} \\equiv k_c \\\\ u^{(0)}_{p} =\\sum^{N_c}_{c=1} M_{cp} \\equiv k_p  $"
     ]
    },
    {
     "cell_type": "code",
     "collapsed": false,
     "input": [
      "def FQ(M,iterations):\n",
      "    #this cannot return the zeroth iteration\n",
      "    Fc = np.zeros([iterations,np.shape(M)[0]])+1\n",
      "    Qp = np.zeros([iterations,np.shape(M)[1]])+1\n",
      "\n",
      "    '''Compute first iteration'''\n",
      "    fc_0 = np.sum(M,1)\n",
      "    qp_0 = np.sum(M,0)\n",
      "\n",
      "    Fc[0]=fc_0\n",
      "    Qp[0]=qp_0\n",
      "\n",
      "    for i in range(1,iterations):\n",
      "   \n",
      "        Fc[i] = 1/fc_0* np.sum(M*Qp[i-1],1) # i believe the secord argument to sum, is axis=1 would rather that be implicit\n",
      "        Qp[i] = 1/qp_0* np.sum((M.T)*Fc[i-1],1)\n",
      "               \n",
      "    return Fc,Qp"
     ],
     "language": "python",
     "metadata": {},
     "outputs": [],
     "prompt_number": 26
    },
    {
     "cell_type": "code",
     "collapsed": false,
     "input": [
      "def reflections_generator(M):\n",
      "    #this cannot return the zeroeth iteration\n",
      "\n",
      "    fitness_c  = np.sum(M,1)\n",
      "    ubiquity_p = np.sum(M,0)\n",
      "    i = 1\n",
      "    while True:\n",
      "        fitness_c = (1 / fitness_c) * np.sum(M*ubiquity_p, axis=1)\n",
      "        ubiquity_p = (1 / ubiquity_p) * np.sum( (M.T)* fitness_c, axis=1)\n",
      "        yield i, fitness_c, ubiquity_p\n",
      "        i += 1\n",
      "\n",
      "def reflections_stream(M, i):\n",
      "    \"\"\"gets the i'th iteration of reflections of M, \n",
      "    but in a memory safe way so we can calculate many generations\"\"\"\n",
      "    if i < 0:\n",
      "        raise ValueError\n",
      "    for j in reflections_generator(M):\n",
      "        if j[0] == i:\n",
      "            return {'fitness': j[1], 'ubiquity': j[2]}\n",
      "            break"
     ],
     "language": "python",
     "metadata": {},
     "outputs": [],
     "prompt_number": 27
    },
    {
     "cell_type": "code",
     "collapsed": false,
     "input": [
      "def reflections_eager(M, i):\n",
      "    FQ_tuple = FQ(M, i)\n",
      "    fitness = FQ_tuple[0]\n",
      "    ubiquity = FQ_tuple[1]\n",
      "    \n",
      "    return {'fitness':fitness[i-1], 'ubiquity':ubiquity[i-1]}"
     ],
     "language": "python",
     "metadata": {},
     "outputs": [],
     "prompt_number": 28
    },
    {
     "cell_type": "code",
     "collapsed": false,
     "input": [
      "def make_bin_matrix(M):\n",
      "    #this returns the a matrix with entry True where the original was nonzero, and zero otherwise.\n",
      "    return M != 0.0"
     ],
     "language": "python",
     "metadata": {},
     "outputs": [],
     "prompt_number": 29
    },
    {
     "cell_type": "code",
     "collapsed": false,
     "input": [
      "def graph_Mcp(M):\n",
      "    plt.figure(figsize=(10,20))\n",
      "    plt.pcolor(M)"
     ],
     "language": "python",
     "metadata": {},
     "outputs": [],
     "prompt_number": 30
    },
    {
     "cell_type": "code",
     "collapsed": false,
     "input": [
      "military_history_fas = make_contributor_matrix(outlinks_page_name='Wikipedia:WikiProject_Military_history/Showcase/FA')"
     ],
     "language": "python",
     "metadata": {},
     "outputs": [
      {
       "output_type": "stream",
       "stream": "stderr",
       "text": [
        "VERBOSE:pywiki:Found 1 wikipedia:en processes running, including this one.\n"
       ]
      },
      {
       "output_type": "stream",
       "stream": "stderr",
       "text": [
        "VERBOSE:pywiki:Pausing due to database lag: Waiting for 10.64.16.26: 6 seconds lagged\n"
       ]
      },
      {
       "output_type": "stream",
       "stream": "stderr",
       "text": [
        "Sleeping for 5.0 seconds, 2014-01-22 16:00:53\n",
        "INFO:pywiki:Sleeping for 5.0 seconds, 2014-01-22 16:00:53\n"
       ]
      },
      {
       "output_type": "stream",
       "stream": "stderr",
       "text": [
        "VERBOSE:pywiki:Found 1 wikipedia:en processes running, including this one.\n"
       ]
      },
      {
       "output_type": "stream",
       "stream": "stderr",
       "text": [
        "VERBOSE:pywiki:Found 1 wikipedia:en processes running, including this one.\n"
       ]
      }
     ],
     "prompt_number": 7
    },
    {
     "cell_type": "code",
     "collapsed": false,
     "input": [
      "saves = !ls savedata\n",
      "print saves"
     ],
     "language": "python",
     "metadata": {},
     "outputs": [
      {
       "output_type": "stream",
       "stream": "stdout",
       "text": [
        "['Category:Electronic_music2014-01-22 16:24:41.896519.npy', 'Category:Feminist_writers2014-01-22 16:30:44.807857.npy', 'Category:Star_Wars_characters2014-01-22 16:28:06.139274.npy', 'Wikipedia:WikiProject_Military_history___Showcase___FA2014-01-22 16:13:39.870334.npy']\n"
       ]
      }
     ],
     "prompt_number": 37
    },
    {
     "cell_type": "code",
     "collapsed": false,
     "input": [
      "mil_hist_matrix = np.load('savedata/'+saves[3])"
     ],
     "language": "python",
     "metadata": {},
     "outputs": [],
     "prompt_number": 22
    },
    {
     "cell_type": "code",
     "collapsed": false,
     "input": [
      "mil_hist_bin = make_bin_matrix(mil_hist_matrix)"
     ],
     "language": "python",
     "metadata": {},
     "outputs": [],
     "prompt_number": 23
    },
    {
     "cell_type": "code",
     "collapsed": false,
     "input": [
      "graph_Mcp(mil_hist_bin)"
     ],
     "language": "python",
     "metadata": {},
     "outputs": [
      {
       "metadata": {},
       "output_type": "display_data",
       "png": "[encoded data removed]",
       "text": [
        "<matplotlib.figure.Figure at 0x3bd1bd10>"
       ]
      }
     ],
     "prompt_number": 24
    },
    {
     "cell_type": "code",
     "collapsed": false,
     "input": [
      "FQ(mil_hist_bin,4)"
     ],
     "language": "python",
     "metadata": {},
     "outputs": [
      {
       "metadata": {},
       "output_type": "pyout",
       "prompt_number": 32,
       "text": [
        "(array([[  1.,   1.,  60., ...,  29.,   9.,   2.],\n",
        "       [ 16.,  85.,   0., ...,   0.,   0.,   0.],\n",
        "       [  0.,   0.,   0., ...,   0.,   0.,   0.],\n",
        "       [  0.,   0.,   0., ...,   0.,   0.,   0.]]),\n",
        " array([[ 125.,   34.,   85., ...,    1.,    2.,    1.],\n",
        "       [   0.,    0.,    0., ...,   14.,    0.,   87.],\n",
        "       [   0.,    0.,    0., ...,    0.,    0.,    0.],\n",
        "       [   0.,    0.,    0., ...,    0.,    0.,    0.]]))"
       ]
      }
     ],
     "prompt_number": 32
    },
    {
     "cell_type": "markdown",
     "metadata": {},
     "source": [
      "Somehow I think the data is too sparse..."
     ]
    },
    {
     "cell_type": "code",
     "collapsed": false,
     "input": [
      "electronic_music = make_contributor_matrix(category_name='Category:Electronic_music')"
     ],
     "language": "python",
     "metadata": {},
     "outputs": [
      {
       "output_type": "stream",
       "stream": "stderr",
       "text": [
        "VERBOSE:pywiki:Found 1 wikipedia:en processes running, including this one.\n"
       ]
      }
     ],
     "prompt_number": 33
    },
    {
     "cell_type": "code",
     "collapsed": false,
     "input": [
      "electronic_music_bin = make_bin_matrix(electronic_music)"
     ],
     "language": "python",
     "metadata": {},
     "outputs": [],
     "prompt_number": 39
    },
    {
     "cell_type": "code",
     "collapsed": false,
     "input": [
      "graph_Mcp(electronic_music_bin)"
     ],
     "language": "python",
     "metadata": {},
     "outputs": [
      {
       "metadata": {},
       "output_type": "display_data",
       "png": "[encoded data removed]",
       "text": [
        "<matplotlib.figure.Figure at 0x16fd1cd0>"
       ]
      }
     ],
     "prompt_number": 40
    },
    {
     "cell_type": "code",
     "collapsed": false,
     "input": [
      "FQ(electronic_music_bin,4)"
     ],
     "language": "python",
     "metadata": {},
     "outputs": [
      {
       "metadata": {},
       "output_type": "pyout",
       "prompt_number": 43,
       "text": [
        "(array([[  1.,   1.,   1.,   1.,   2.,   2.,   1.,   3.,   4.,   9.,   1.,\n",
        "          1.,   3.,   2.,   1.,   3.,   2.,   1.,   1.,   1.,   2.,   1.,\n",
        "          1.,   1.,  15.,   1.,   3.,   1.,   1.,   6.,   1.,   4.],\n",
        "       [  4.,   4.,   1.,   2.,   0.,   0.,   7.,   0.,   0.,   0.,   7.,\n",
        "          1.,   0.,   0.,   1.,   0.,   0.,   4.,   2.,   4.,   0.,   2.,\n",
        "          4.,   1.,   0.,   2.,   0.,  10.,   1.,   0.,   1.,   0.],\n",
        "       [  0.,   0.,   1.,   0.,   0.,   0.,   0.,   0.,   0.,   0.,   0.,\n",
        "          1.,   0.,   0.,   1.,   0.,   0.,   0.,   0.,   0.,   0.,   0.,\n",
        "          0.,   1.,   0.,   0.,   0.,   0.,   1.,   0.,   1.,   0.],\n",
        "       [  0.,   0.,   1.,   0.,   0.,   0.,   0.,   0.,   0.,   0.,   0.,\n",
        "          1.,   0.,   0.,   1.,   0.,   0.,   0.,   0.,   0.,   0.,   0.,\n",
        "          0.,   1.,   0.,   0.,   0.,   0.,   1.,   0.,   1.,   0.]]),\n",
        " array([[  4.,   2.,   1.,  10.,   2.,   4.,   1.,   7.,   2.,   1.,   4.,\n",
        "          1.,   4.,   2.,   2.,   2.,   1.,   4.,   2.,   1.,   1.,   4.,\n",
        "          2.,   1.,   1.,   1.,   2.,   1.,   1.,   3.,   1.,   1.,   2.],\n",
        "       [  0.,   0.,   4.,   0.,   0.,   0.,   4.,   0.,   0.,   3.,   0.,\n",
        "          1.,   0.,   0.,   0.,   0.,   1.,   0.,   0.,   1.,  15.,   0.,\n",
        "          0.,   1.,   3.,   6.,   0.,   1.,   9.,   0.,  15.,   1.,   0.],\n",
        "       [  0.,   0.,   0.,   0.,   0.,   0.,   0.,   0.,   0.,   0.,   0.,\n",
        "          1.,   0.,   0.,   0.,   0.,   1.,   0.,   0.,   1.,   0.,   0.,\n",
        "          0.,   1.,   0.,   0.,   0.,   1.,   0.,   0.,   0.,   1.,   0.],\n",
        "       [  0.,   0.,   0.,   0.,   0.,   0.,   0.,   0.,   0.,   0.,   0.,\n",
        "          1.,   0.,   0.,   0.,   0.,   1.,   0.,   0.,   1.,   0.,   0.,\n",
        "          0.,   1.,   0.,   0.,   0.,   1.,   0.,   0.,   0.,   1.,   0.]]))"
       ]
      }
     ],
     "prompt_number": 43
    },
    {
     "cell_type": "code",
     "collapsed": false,
     "input": [
      "!ls savedata/"
     ],
     "language": "python",
     "metadata": {},
     "outputs": [
      {
       "output_type": "stream",
       "stream": "stdout",
       "text": [
        "Category:Electronic_music2014-01-22 16:24:41.896519.npy\r\n",
        "Category:Feminist_writers2014-01-22 16:30:44.807857.npy\r\n",
        "Category:Star_Wars_characters2014-01-22 16:28:06.139274.npy\r\n",
        "Wikipedia:WikiProject_Military_history___Showcase___FA2014-01-22 16:13:39.870334.npy\r\n"
       ]
      }
     ],
     "prompt_number": 44
    },
    {
     "cell_type": "code",
     "collapsed": false,
     "input": [
      "star_wars = np.load('savedata/' + saves[3])"
     ],
     "language": "python",
     "metadata": {},
     "outputs": [],
     "prompt_number": 46
    },
    {
     "cell_type": "code",
     "collapsed": false,
     "input": [
      "star_wars_bin = make_bin_matrix(star_wars)"
     ],
     "language": "python",
     "metadata": {},
     "outputs": [],
     "prompt_number": 47
    },
    {
     "cell_type": "code",
     "collapsed": false,
     "input": [
      "graph_Mcp(star_wars_bin)"
     ],
     "language": "python",
     "metadata": {},
     "outputs": [
      {
       "metadata": {},
       "output_type": "display_data",
       "png": "[encoded data removed]",
       "text": [
        "<matplotlib.figure.Figure at 0x16fce7d0>"
       ]
      }
     ],
     "prompt_number": 48
    },
    {
     "cell_type": "code",
     "collapsed": false,
     "input": [
      "FQ(star_wars_bin, 6)"
     ],
     "language": "python",
     "metadata": {},
     "outputs": [
      {
       "metadata": {},
       "output_type": "pyout",
       "prompt_number": 50,
       "text": [
        "(array([[  1.,   1.,  60., ...,  29.,   9.,   2.],\n",
        "       [ 16.,  85.,   0., ...,   0.,   0.,   0.],\n",
        "       [  0.,   0.,   0., ...,   0.,   0.,   0.],\n",
        "       [  0.,   0.,   0., ...,   0.,   0.,   0.],\n",
        "       [  0.,   0.,   0., ...,   0.,   0.,   0.],\n",
        "       [  0.,   0.,   0., ...,   0.,   0.,   0.]]),\n",
        " array([[ 125.,   34.,   85., ...,    1.,    2.,    1.],\n",
        "       [   0.,    0.,    0., ...,   14.,    0.,   87.],\n",
        "       [   0.,    0.,    0., ...,    0.,    0.,    0.],\n",
        "       [   0.,    0.,    0., ...,    0.,    0.,    0.],\n",
        "       [   0.,    0.,    0., ...,    0.,    0.,    0.],\n",
        "       [   0.,    0.,    0., ...,    0.,    0.,    0.]]))"
       ]
      }
     ],
     "prompt_number": 50
    },
    {
     "cell_type": "markdown",
     "metadata": {},
     "source": [
      "it's completely zero see below"
     ]
    },
    {
     "cell_type": "code",
     "collapsed": false,
     "input": [
      "FQ(star_wars_bin,6)[0][5].any()"
     ],
     "language": "python",
     "metadata": {},
     "outputs": [
      {
       "metadata": {},
       "output_type": "pyout",
       "prompt_number": 52,
       "text": [
        "False"
       ]
      }
     ],
     "prompt_number": 52
    },
    {
     "cell_type": "code",
     "collapsed": false,
     "input": [
      "feminsist_writers = make_contributor_matrix(category_name='Category:Feminist_writers')"
     ],
     "language": "python",
     "metadata": {},
     "outputs": [
      {
       "output_type": "stream",
       "stream": "stderr",
       "text": [
        "VERBOSE:pywiki:Found 1 wikipedia:en processes running, including this one.\n"
       ]
      }
     ],
     "prompt_number": 36
    },
    {
     "cell_type": "code",
     "collapsed": false,
     "input": [
      "feminist_bin = make_bin_matrix(np.load('savedata/'+saves[1]))"
     ],
     "language": "python",
     "metadata": {},
     "outputs": [],
     "prompt_number": 53
    },
    {
     "cell_type": "code",
     "collapsed": false,
     "input": [
      "graph_Mcp(feminist_bin)"
     ],
     "language": "python",
     "metadata": {},
     "outputs": [
      {
       "metadata": {},
       "output_type": "display_data",
       "png": "[encoded data removed]",
       "text": [
        "<matplotlib.figure.Figure at 0x47e91350>"
       ]
      }
     ],
     "prompt_number": 54
    },
    {
     "cell_type": "code",
     "collapsed": false,
     "input": [
      "FQ(feminist_bin, 6)"
     ],
     "language": "python",
     "metadata": {},
     "outputs": [
      {
       "metadata": {},
       "output_type": "pyout",
       "prompt_number": 55,
       "text": [
        "(array([[  3.,   1.,   1.,   3.,   1.,   1.,   1.,   1.,   1.,   1.,   1.,\n",
        "          1.,   4.,   2.,   1.,   1.,   3.,  24.,   1.,   4.,   1.,   4.,\n",
        "          1.,   1.,  16.,   1.,   2.,  10.,   1.,   1.,   1.,   1.,   1.,\n",
        "          6.,   1.,   1.,   1.,   8.,   1.,   1.,   1.,   1.,   2.,   1.,\n",
        "          1.,  40.,   1.,   1.,   7.,   7.,   3.,   1.,   2.,   1.,   1.,\n",
        "          2.,   1.,   1.,  11.,   1.,   2.,   8.,   2.,   1.,   3.,   9.,\n",
        "          1.,   6.,   2.,   2.,   1.,   1.,   4.,   1.,   8.,   1.,   1.,\n",
        "          6.,   1.,   1.,   2.,   2.,   1.,   1.,   1.,  20.,   2.,   1.,\n",
        "          6.,   1.,   4.,   2.,   1.,   1.,   6.,   9.,   5.,  12.,   1.,\n",
        "          3.,   1.,   2.,   1.,   1.,   8.,   1.,   1.,   1.,   1.],\n",
        "       [  0.,  12.,  10.,   0.,   9.,   5.,  10.,   2.,  12.,   1.,   3.,\n",
        "          1.,   0.,   0.,   1.,  10.,   0.,   0.,   9.,   0.,   3.,   0.,\n",
        "          6.,   9.,   0.,   4.,   0.,   0.,  10.,  10.,  10.,  12.,  10.,\n",
        "          0.,   2.,  10.,  11.,   0.,   2.,   1.,   1.,   1.,   0.,   3.,\n",
        "          1.,   0.,  12.,  12.,   0.,   0.,   0.,   2.,   0.,   1.,   1.,\n",
        "          0.,   1.,   4.,   0.,   1.,   0.,   0.,   0.,   1.,   0.,   0.,\n",
        "          4.,   0.,   0.,   0.,   1.,   1.,   0.,   9.,   0.,  10.,  12.,\n",
        "          0.,   1.,  12.,   0.,   0.,  11.,   1.,   9.,   0.,   0.,   2.,\n",
        "          0.,  10.,   0.,   0.,  10.,  12.,   0.,   0.,   0.,   0.,   3.,\n",
        "          0.,   3.,   0.,   2.,   1.,   0.,   3.,  11.,  11.,  10.],\n",
        "       [  0.,   0.,   0.,   0.,   0.,   0.,   0.,   0.,   0.,   1.,   0.,\n",
        "          1.,   0.,   0.,   1.,   0.,   0.,   0.,   0.,   0.,   0.,   0.,\n",
        "          0.,   0.,   0.,   0.,   0.,   0.,   0.,   0.,   0.,   0.,   0.,\n",
        "          0.,   0.,   0.,   0.,   0.,   0.,   1.,   1.,   1.,   0.,   0.,\n",
        "          1.,   0.,   0.,   0.,   0.,   0.,   0.,   0.,   0.,   1.,   1.,\n",
        "          0.,   1.,   0.,   0.,   1.,   0.,   0.,   0.,   1.,   0.,   0.,\n",
        "          0.,   0.,   0.,   0.,   1.,   1.,   0.,   0.,   0.,   0.,   0.,\n",
        "          0.,   1.,   0.,   0.,   0.,   0.,   1.,   0.,   0.,   0.,   0.,\n",
        "          0.,   0.,   0.,   0.,   0.,   0.,   0.,   0.,   0.,   0.,   0.,\n",
        "          0.,   0.,   0.,   0.,   1.,   0.,   0.,   0.,   0.,   0.],\n",
        "       [  0.,   0.,   0.,   0.,   0.,   0.,   0.,   0.,   0.,   1.,   0.,\n",
        "          1.,   0.,   0.,   1.,   0.,   0.,   0.,   0.,   0.,   0.,   0.,\n",
        "          0.,   0.,   0.,   0.,   0.,   0.,   0.,   0.,   0.,   0.,   0.,\n",
        "          0.,   0.,   0.,   0.,   0.,   0.,   1.,   1.,   1.,   0.,   0.,\n",
        "          1.,   0.,   0.,   0.,   0.,   0.,   0.,   0.,   0.,   1.,   1.,\n",
        "          0.,   1.,   0.,   0.,   1.,   0.,   0.,   0.,   1.,   0.,   0.,\n",
        "          0.,   0.,   0.,   0.,   1.,   1.,   0.,   0.,   0.,   0.,   0.,\n",
        "          0.,   1.,   0.,   0.,   0.,   0.,   1.,   0.,   0.,   0.,   0.,\n",
        "          0.,   0.,   0.,   0.,   0.,   0.,   0.,   0.,   0.,   0.,   0.,\n",
        "          0.,   0.,   0.,   0.,   1.,   0.,   0.,   0.,   0.,   0.],\n",
        "       [  0.,   0.,   0.,   0.,   0.,   0.,   0.,   0.,   0.,   1.,   0.,\n",
        "          1.,   0.,   0.,   1.,   0.,   0.,   0.,   0.,   0.,   0.,   0.,\n",
        "          0.,   0.,   0.,   0.,   0.,   0.,   0.,   0.,   0.,   0.,   0.,\n",
        "          0.,   0.,   0.,   0.,   0.,   0.,   1.,   1.,   1.,   0.,   0.,\n",
        "          1.,   0.,   0.,   0.,   0.,   0.,   0.,   0.,   0.,   1.,   1.,\n",
        "          0.,   1.,   0.,   0.,   1.,   0.,   0.,   0.,   1.,   0.,   0.,\n",
        "          0.,   0.,   0.,   0.,   1.,   1.,   0.,   0.,   0.,   0.,   0.,\n",
        "          0.,   1.,   0.,   0.,   0.,   0.,   1.,   0.,   0.,   0.,   0.,\n",
        "          0.,   0.,   0.,   0.,   0.,   0.,   0.,   0.,   0.,   0.,   0.,\n",
        "          0.,   0.,   0.,   0.,   1.,   0.,   0.,   0.,   0.,   0.],\n",
        "       [  0.,   0.,   0.,   0.,   0.,   0.,   0.,   0.,   0.,   1.,   0.,\n",
        "          1.,   0.,   0.,   1.,   0.,   0.,   0.,   0.,   0.,   0.,   0.,\n",
        "          0.,   0.,   0.,   0.,   0.,   0.,   0.,   0.,   0.,   0.,   0.,\n",
        "          0.,   0.,   0.,   0.,   0.,   0.,   1.,   1.,   1.,   0.,   0.,\n",
        "          1.,   0.,   0.,   0.,   0.,   0.,   0.,   0.,   0.,   1.,   1.,\n",
        "          0.,   1.,   0.,   0.,   1.,   0.,   0.,   0.,   1.,   0.,   0.,\n",
        "          0.,   0.,   0.,   0.,   1.,   1.,   0.,   0.,   0.,   0.,   0.,\n",
        "          0.,   1.,   0.,   0.,   0.,   0.,   1.,   0.,   0.,   0.,   0.,\n",
        "          0.,   0.,   0.,   0.,   0.,   0.,   0.,   0.,   0.,   0.,   0.,\n",
        "          0.,   0.,   0.,   0.,   1.,   0.,   0.,   0.,   0.,   0.]]),\n",
        " array([[ 12.,   9.,   9.,   3.,   7.,   3.,   1.,   5.,  11.,   9.,  10.,\n",
        "          1.,   3.,   2.,   9.,   3.,   1.,  10.,   2.,   4.,   2.,  11.,\n",
        "          9.,   4.,   2.,   2.,   2.,   2.,   6.,  10.,   2.,   4.,   3.,\n",
        "          1.,   1.,   5.,   2.,   2.,   1.,   1.,   3.,   2.,   6.,   1.,\n",
        "          4.,   1.,   6.,   3.,   2.,   5.,   1.,   5.,   5.,   1.,   1.,\n",
        "          1.,   2.,   2.,   1.,   1.,   2.,   1.,   1.,   1.,   3.,   1.,\n",
        "          4.,   1.,   2.,   4.,   4.,   1.,   1.,   2.,   4.,   1.,   1.,\n",
        "          1.,   3.,   4.,   1.,   1.,   1.,   1.,   6.,   4.,   1.,   1.,\n",
        "          1.,   2.,   1.,   2.,   1.,   1.,   4.,   1.,   1.,   1.,   2.,\n",
        "          1.,   3.,   1.,   1.,   1.,   1.,   3.,   1.,   1.,   1.,   2.,\n",
        "          1.,   3.,   1.,   1.,   1.,   1.,   1.,   1.,   1.,   1.,   1.,\n",
        "          2.,   1.,   1.,   1.,   1.,   1.,   1.,   2.,   2.,   1.,   1.,\n",
        "          1.,   1.,   1.,   1.],\n",
        "       [  0.,   0.,   0.,   0.,   0.,   0.,   1.,   0.,   0.,   0.,   0.,\n",
        "         24.,   0.,   0.,   0.,   0.,   2.,   0.,   0.,   0.,   0.,   0.,\n",
        "          0.,   0.,   0.,   0.,   0.,   0.,   0.,   0.,   0.,   0.,   0.,\n",
        "         16.,   1.,   0.,   0.,   0.,  16.,   1.,   0.,   0.,   0.,  20.,\n",
        "          0.,   1.,   0.,   0.,   0.,   0.,   7.,   0.,   0.,  24.,   6.,\n",
        "          6.,   0.,   0.,  40.,  10.,   0.,   7.,   4.,   4.,   0.,   7.,\n",
        "          0.,  40.,   0.,   0.,   0.,   6.,   1.,   0.,   0.,   3.,   1.,\n",
        "         40.,   0.,   0.,   1.,   4.,   6.,   6.,   0.,   0.,   5.,  11.,\n",
        "          1.,   0.,   1.,   0.,  20.,  20.,   0.,  20.,  20.,  11.,   0.,\n",
        "          1.,   0.,   1.,  40.,  40.,   4.,   0.,  40.,   8.,   2.,   0.,\n",
        "         20.,   0.,   7.,   1.,  40.,   1.,  40.,  40.,   4.,   9.,  20.,\n",
        "          0.,   3.,   8.,   6.,  40.,  40.,   1.,   0.,   0.,   8.,   1.,\n",
        "          1.,  40.,   1.,   8.],\n",
        "       [  0.,   0.,   0.,   0.,   0.,   0.,   1.,   0.,   0.,   0.,   0.,\n",
        "          0.,   0.,   0.,   0.,   0.,   0.,   0.,   0.,   0.,   0.,   0.,\n",
        "          0.,   0.,   0.,   0.,   0.,   0.,   0.,   0.,   0.,   0.,   0.,\n",
        "          0.,   1.,   0.,   0.,   0.,   0.,   1.,   0.,   0.,   0.,   0.,\n",
        "          0.,   1.,   0.,   0.,   0.,   0.,   0.,   0.,   0.,   0.,   0.,\n",
        "          0.,   0.,   0.,   0.,   0.,   0.,   0.,   0.,   0.,   0.,   0.,\n",
        "          0.,   0.,   0.,   0.,   0.,   0.,   1.,   0.,   0.,   0.,   1.,\n",
        "          0.,   0.,   0.,   1.,   0.,   0.,   0.,   0.,   0.,   0.,   0.,\n",
        "          1.,   0.,   1.,   0.,   0.,   0.,   0.,   0.,   0.,   0.,   0.,\n",
        "          1.,   0.,   1.,   0.,   0.,   0.,   0.,   0.,   0.,   0.,   0.,\n",
        "          0.,   0.,   0.,   1.,   0.,   1.,   0.,   0.,   0.,   0.,   0.,\n",
        "          0.,   0.,   0.,   0.,   0.,   0.,   1.,   0.,   0.,   0.,   1.,\n",
        "          1.,   0.,   1.,   0.],\n",
        "       [  0.,   0.,   0.,   0.,   0.,   0.,   1.,   0.,   0.,   0.,   0.,\n",
        "          0.,   0.,   0.,   0.,   0.,   0.,   0.,   0.,   0.,   0.,   0.,\n",
        "          0.,   0.,   0.,   0.,   0.,   0.,   0.,   0.,   0.,   0.,   0.,\n",
        "          0.,   1.,   0.,   0.,   0.,   0.,   1.,   0.,   0.,   0.,   0.,\n",
        "          0.,   1.,   0.,   0.,   0.,   0.,   0.,   0.,   0.,   0.,   0.,\n",
        "          0.,   0.,   0.,   0.,   0.,   0.,   0.,   0.,   0.,   0.,   0.,\n",
        "          0.,   0.,   0.,   0.,   0.,   0.,   1.,   0.,   0.,   0.,   1.,\n",
        "          0.,   0.,   0.,   1.,   0.,   0.,   0.,   0.,   0.,   0.,   0.,\n",
        "          1.,   0.,   1.,   0.,   0.,   0.,   0.,   0.,   0.,   0.,   0.,\n",
        "          1.,   0.,   1.,   0.,   0.,   0.,   0.,   0.,   0.,   0.,   0.,\n",
        "          0.,   0.,   0.,   1.,   0.,   1.,   0.,   0.,   0.,   0.,   0.,\n",
        "          0.,   0.,   0.,   0.,   0.,   0.,   1.,   0.,   0.,   0.,   1.,\n",
        "          1.,   0.,   1.,   0.],\n",
        "       [  0.,   0.,   0.,   0.,   0.,   0.,   1.,   0.,   0.,   0.,   0.,\n",
        "          0.,   0.,   0.,   0.,   0.,   0.,   0.,   0.,   0.,   0.,   0.,\n",
        "          0.,   0.,   0.,   0.,   0.,   0.,   0.,   0.,   0.,   0.,   0.,\n",
        "          0.,   1.,   0.,   0.,   0.,   0.,   1.,   0.,   0.,   0.,   0.,\n",
        "          0.,   1.,   0.,   0.,   0.,   0.,   0.,   0.,   0.,   0.,   0.,\n",
        "          0.,   0.,   0.,   0.,   0.,   0.,   0.,   0.,   0.,   0.,   0.,\n",
        "          0.,   0.,   0.,   0.,   0.,   0.,   1.,   0.,   0.,   0.,   1.,\n",
        "          0.,   0.,   0.,   1.,   0.,   0.,   0.,   0.,   0.,   0.,   0.,\n",
        "          1.,   0.,   1.,   0.,   0.,   0.,   0.,   0.,   0.,   0.,   0.,\n",
        "          1.,   0.,   1.,   0.,   0.,   0.,   0.,   0.,   0.,   0.,   0.,\n",
        "          0.,   0.,   0.,   1.,   0.,   1.,   0.,   0.,   0.,   0.,   0.,\n",
        "          0.,   0.,   0.,   0.,   0.,   0.,   1.,   0.,   0.,   0.,   1.,\n",
        "          1.,   0.,   1.,   0.],\n",
        "       [  0.,   0.,   0.,   0.,   0.,   0.,   1.,   0.,   0.,   0.,   0.,\n",
        "          0.,   0.,   0.,   0.,   0.,   0.,   0.,   0.,   0.,   0.,   0.,\n",
        "          0.,   0.,   0.,   0.,   0.,   0.,   0.,   0.,   0.,   0.,   0.,\n",
        "          0.,   1.,   0.,   0.,   0.,   0.,   1.,   0.,   0.,   0.,   0.,\n",
        "          0.,   1.,   0.,   0.,   0.,   0.,   0.,   0.,   0.,   0.,   0.,\n",
        "          0.,   0.,   0.,   0.,   0.,   0.,   0.,   0.,   0.,   0.,   0.,\n",
        "          0.,   0.,   0.,   0.,   0.,   0.,   1.,   0.,   0.,   0.,   1.,\n",
        "          0.,   0.,   0.,   1.,   0.,   0.,   0.,   0.,   0.,   0.,   0.,\n",
        "          1.,   0.,   1.,   0.,   0.,   0.,   0.,   0.,   0.,   0.,   0.,\n",
        "          1.,   0.,   1.,   0.,   0.,   0.,   0.,   0.,   0.,   0.,   0.,\n",
        "          0.,   0.,   0.,   1.,   0.,   1.,   0.,   0.,   0.,   0.,   0.,\n",
        "          0.,   0.,   0.,   0.,   0.,   0.,   1.,   0.,   0.,   0.,   1.,\n",
        "          1.,   0.,   1.,   0.]]))"
       ]
      }
     ],
     "prompt_number": 55
    },
    {
     "cell_type": "code",
     "collapsed": false,
     "input": [
      "fem_fq = FQ(feminist_bin,6)"
     ],
     "language": "python",
     "metadata": {},
     "outputs": [],
     "prompt_number": 56
    },
    {
     "cell_type": "code",
     "collapsed": false,
     "input": [
      "fem_fq[1][4]  == fem_fq[1][5]"
     ],
     "language": "python",
     "metadata": {},
     "outputs": [
      {
       "metadata": {},
       "output_type": "pyout",
       "prompt_number": 57,
       "text": [
        "array([ True,  True,  True,  True,  True,  True,  True,  True,  True,\n",
        "        True,  True,  True,  True,  True,  True,  True,  True,  True,\n",
        "        True,  True,  True,  True,  True,  True,  True,  True,  True,\n",
        "        True,  True,  True,  True,  True,  True,  True,  True,  True,\n",
        "        True,  True,  True,  True,  True,  True,  True,  True,  True,\n",
        "        True,  True,  True,  True,  True,  True,  True,  True,  True,\n",
        "        True,  True,  True,  True,  True,  True,  True,  True,  True,\n",
        "        True,  True,  True,  True,  True,  True,  True,  True,  True,\n",
        "        True,  True,  True,  True,  True,  True,  True,  True,  True,\n",
        "        True,  True,  True,  True,  True,  True,  True,  True,  True,\n",
        "        True,  True,  True,  True,  True,  True,  True,  True,  True,\n",
        "        True,  True,  True,  True,  True,  True,  True,  True,  True,\n",
        "        True,  True,  True,  True,  True,  True,  True,  True,  True,\n",
        "        True,  True,  True,  True,  True,  True,  True,  True,  True,\n",
        "        True,  True,  True,  True,  True,  True,  True,  True,  True,  True], dtype=bool)"
       ]
      }
     ],
     "prompt_number": 57
    },
    {
     "cell_type": "markdown",
     "metadata": {},
     "source": [
      "Does this mean it has converged to here? It's weird that the odd and even should be the same."
     ]
    }
   ],
   "metadata": {}
  }
 ]
}