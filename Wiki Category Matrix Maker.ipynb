{
 "metadata": {
  "name": ""
 },
 "nbformat": 3,
 "nbformat_minor": 0,
 "worksheets": [
  {
   "cells": [
    {
     "cell_type": "code",
     "collapsed": false,
     "input": [
      "import pywikibot\n",
      "from pywikibot import pagegenerators\n",
      "import datetime\n",
      "import pandas as pd\n",
      "import numpy as np\n",
      "from collections import defaultdict\n",
      "import datetime\n",
      "import scipy.stats as ss\n",
      "import operator\n",
      "import os\n",
      "%pylab inline\n",
      "\n",
      "\n",
      "enwp, dewp, frwp = (pywikibot.Site(lang, 'wikipedia') for lang in ['en', 'de', 'fr'])"
     ],
     "language": "python",
     "metadata": {},
     "outputs": [
      {
       "output_type": "stream",
       "stream": "stdout",
       "text": [
        "Populating the interactive namespace from numpy and matplotlib\n"
       ]
      }
     ],
     "prompt_number": 631
    },
    {
     "cell_type": "code",
     "collapsed": false,
     "input": [
      "if not enwp.logged_in: enwp.login()"
     ],
     "language": "python",
     "metadata": {},
     "outputs": [],
     "prompt_number": 11
    },
    {
     "cell_type": "code",
     "collapsed": false,
     "input": [
      "def category_to_snapshots(category_name):\n",
      "    articles = load_arts(category_name)\n",
      "    all_revisions = make_revision_df(articles)\n",
      "    snapshots = make_snapshots(category_name, all_revisions, periods=10, remove_minimum=10)\n",
      "    snapshot_dates = snapshots['snapshot_dates']\n",
      "    return snapshots['snapshots']"
     ],
     "language": "python",
     "metadata": {},
     "outputs": [],
     "prompt_number": 556
    },
    {
     "cell_type": "code",
     "collapsed": false,
     "input": [
      "def load_arts(category_name, wp=enwp):\n",
      "\n",
      "    if category_name:\n",
      "        cat = pywikibot.Category(wp, category_name)\n",
      "        articles = list(cat.articles())\n",
      "        save_name = category_name\n",
      "    \n",
      "    load_article_revisions(articles, wp)\n",
      "\n",
      "    return articles"
     ],
     "language": "python",
     "metadata": {},
     "outputs": [],
     "prompt_number": 19
    },
    {
     "cell_type": "code",
     "collapsed": false,
     "input": [
      "def make_rev_dict(article):\n",
      "    revdict = {rev.timestamp : {'user' : rev.user, 'article' : article.title()} for rev in article._revisions.itervalues()}\n",
      "    return revdict\n",
      "\n",
      "def make_revision_df(article_list):\n",
      "    all_revisions = pd.DataFrame(columns=['user', 'article'], index=pd.TimeSeries())\n",
      "    \n",
      "    for article in article_list:\n",
      "        all_revisions = all_revisions.append(pd.DataFrame.from_dict(data=make_rev_dict(article), orient='index'))\n",
      "        \n",
      "    return all_revisions"
     ],
     "language": "python",
     "metadata": {},
     "outputs": [],
     "prompt_number": 78
    },
    {
     "cell_type": "code",
     "collapsed": false,
     "input": [
      "def make_snapshots(name, all_revisions_df, periods=10, remove_minimum=20):\n",
      "    '''returns a dict period snapshots as determined by number of edits\n",
      "    made by users contributing at least remove_minium edits'''\n",
      "    snapshots = dict()\n",
      "    \n",
      "    user_ar = all_revisions_df.groupby(by='user')\n",
      "    edit_sizes = user_ar.size()\n",
      "    min_editors = edit_sizes[ edit_sizes > 10]\n",
      "    criterion = all_revisions_df['user'].map(lambda user: user in min_editors.index)\n",
      "    min_revisions = all_revisions_df[criterion]\n",
      "    \n",
      "    sorted_min_revisions = min_revisions.sort(axis=0)\n",
      "    \n",
      "    period_len = len(min_revisions)/float(periods)\n",
      "    \n",
      "    snapshot_dates = list()\n",
      "    \n",
      "    for i in range(1, periods+1):\n",
      "        start = int(floor((i-1)*period_len))\n",
      "        end = int(floor(i*period_len)) - 1\n",
      "        #print \"b \",str(start),'   e ',str(end)  \n",
      "        \n",
      "        snapshot_dates.append(sorted_min_revisions[start:end].last_valid_index())\n",
      "        \n",
      "        snapshots[i] = sorted_min_revisions[start:end]\n",
      "        \n",
      "    for i, df in snapshots.iteritems():\n",
      "        directory = name\n",
      "        today = str(datetime.date.today())\n",
      "        double_directory = 'savedata/' + directory + '/' + today + '/'\n",
      "        \n",
      "        if not os.path.exists(double_directory):\n",
      "            os.makedirs(double_directory)\n",
      "        filename = double_directory  + str(i) + '.json'\n",
      "        f = open(filename, 'w')\n",
      "        \n",
      "        snapshots[i].to_json(f)\n",
      "    \n",
      "    return {'snapshots': snapshots, 'snapshot_dates':snapshot_dates}"
     ],
     "language": "python",
     "metadata": {},
     "outputs": [],
     "prompt_number": 559
    },
    {
     "cell_type": "code",
     "collapsed": false,
     "input": [
      "dates = make_snapshots('fem',ar)['snapshot_dates']"
     ],
     "language": "python",
     "metadata": {},
     "outputs": [],
     "prompt_number": 560
    },
    {
     "cell_type": "code",
     "collapsed": false,
     "input": [
      "def load_to_matrix(pandas_json_file):\n",
      "    df = pd.read_json(pandas_json_file)\n",
      "    u_grouped = df.groupby('user')\n",
      "    a_grouped = df.groupby('article')\n",
      "    ua_grouped = df.groupby(by = ['user', 'article'])\n",
      "    \n",
      "    '''these dicts are so we can back translate the indexes in the matrix to real users and articles'''\n",
      "    users = list(u_grouped.groups.iterkeys())\n",
      "    articles = list(a_grouped.groups.iterkeys())\n",
      "    user_dict = {username: users.index(username) for username in users}\n",
      "    article_dict = {articlename: articles.index(articlename) for articlename in articles}\n",
      "    \n",
      "    contributor_matrix = np.zeros(shape=(len(users), len(articles)))\n",
      "    \n",
      "    for user_article_tuple, timestamps in ua_grouped.groups.iteritems():\n",
      "        user_string = user_article_tuple[0]\n",
      "        article_string = user_article_tuple[1]\n",
      "        user_index = user_dict[user_string]\n",
      "        article_index = article_dict[article_string]\n",
      "        \n",
      "        contributor_matrix[user_index][article_index] = len(timestamps)\n",
      "        \n",
      "    return {'M':contributor_matrix, 'user_dict': user_dict, 'article_dict': article_dict}"
     ],
     "language": "python",
     "metadata": {},
     "outputs": [],
     "prompt_number": 521
    },
    {
     "cell_type": "code",
     "collapsed": false,
     "input": [
      "def make_bin_matrix(M):\n",
      "    M[M>0] = 1.0\n",
      "    return M"
     ],
     "language": "python",
     "metadata": {},
     "outputs": [],
     "prompt_number": 487
    },
    {
     "cell_type": "code",
     "collapsed": false,
     "input": [
      "def plot_M_diff(M_before, M_after):\n",
      "    fig, ax = plt.subplots(nrows=1, ncols=2, sharex=True, sharey=True)\n",
      "    plt.figure(figsize=(10, 15))\n",
      "    ax[0].imshow(M_before, cmap=plt.cm.gray, interpolation='nearest')\n",
      "    ax[1].imshow(M_after, cmap=plt.cm.gray, interpolation='nearest')"
     ],
     "language": "python",
     "metadata": {},
     "outputs": [],
     "prompt_number": 599
    },
    {
     "cell_type": "code",
     "collapsed": false,
     "input": [
      "def plot_M(M):\n",
      "    plt.figure(figsize=(20, 20))\n",
      "    imshow(M, cmap=plt.cm.gray, interpolation='nearest')"
     ],
     "language": "python",
     "metadata": {},
     "outputs": [],
     "prompt_number": 607
    },
    {
     "cell_type": "code",
     "collapsed": false,
     "input": [
      "def M_test_triangular(M):\n",
      "    user_edits_sum = M.sum(axis=1)\n",
      "    article_edits_sum = M.sum(axis=0)\n",
      "    \n",
      "    user_edits_order = user_edits_sum.argsort()\n",
      "    article_edits_order = article_edits_sum.argsort()\n",
      "    \n",
      "    M_s = M[user_edits_order,:]\n",
      "    M_ss = M_s[:,article_edits_order]\n",
      "    plot_M(M_ss)"
     ],
     "language": "python",
     "metadata": {},
     "outputs": [],
     "prompt_number": 608
    },
    {
     "cell_type": "code",
     "collapsed": false,
     "input": [
      "pjf = 'fem/2014-01-29/10.json'\n",
      "parts = load_to_matrix(pjf)\n",
      "M, user_dict, article_dict = parts['M'], parts['user_dict'], parts['article_dict']"
     ],
     "language": "python",
     "metadata": {},
     "outputs": [],
     "prompt_number": 527
    },
    {
     "cell_type": "code",
     "collapsed": false,
     "input": [
      "M_test_triangular(M)"
     ],
     "language": "python",
     "metadata": {},
     "outputs": [
      {
       "metadata": {},
       "output_type": "display_data",
       "png": "[encoded data removed]",
       "text": [
        "<matplotlib.figure.Figure at 0x169990d0>"
       ]
      }
     ],
     "prompt_number": 609
    },
    {
     "cell_type": "code",
     "collapsed": false,
     "input": [
      "M_sort.argsort(axis=1)"
     ],
     "language": "python",
     "metadata": {},
     "outputs": [
      {
       "metadata": {},
       "output_type": "pyout",
       "prompt_number": 462,
       "text": [
        "array([[  0, 144, 145, ...,  60, 135, 160],\n",
        "       [  0, 144, 145, ...,  28,  47, 113],\n",
        "       [  0, 146, 147, ...,  91, 105,  50],\n",
        "       ..., \n",
        "       [  0, 139, 140, ..., 193,  27,  50],\n",
        "       [  0, 143, 144, ..., 147, 179, 168],\n",
        "       [  0, 146, 147, ...,  72, 229, 139]])"
       ]
      }
     ],
     "prompt_number": 462
    },
    {
     "cell_type": "code",
     "collapsed": false,
     "input": [
      "plotM(M_sort)"
     ],
     "language": "python",
     "metadata": {},
     "outputs": [
      {
       "metadata": {},
       "output_type": "display_data",
       "text": [
        "<matplotlib.figure.Figure at 0x117e4990>"
       ]
      },
      {
       "metadata": {},
       "output_type": "display_data",
       "png": "[encoded data removed]",
       "text": [
        "<matplotlib.figure.Figure at 0x1113ec50>"
       ]
      }
     ],
     "prompt_number": 455
    },
    {
     "cell_type": "code",
     "collapsed": false,
     "input": [
      "M.sort(axis=1, order=user_edits_order)"
     ],
     "language": "python",
     "metadata": {},
     "outputs": [
      {
       "ename": "ValueError",
       "evalue": "Cannot specify order when the array has no fields.",
       "output_type": "pyerr",
       "traceback": [
        "\u001b[1;31m---------------------------------------------------------------------------\u001b[0m\n\u001b[1;31mValueError\u001b[0m                                Traceback (most recent call last)",
        "\u001b[1;32m<ipython-input-394-109fcc5fbd2c>\u001b[0m in \u001b[0;36m<module>\u001b[1;34m()\u001b[0m\n\u001b[1;32m----> 1\u001b[1;33m \u001b[0mM\u001b[0m\u001b[1;33m.\u001b[0m\u001b[0msort\u001b[0m\u001b[1;33m(\u001b[0m\u001b[0maxis\u001b[0m\u001b[1;33m=\u001b[0m\u001b[1;36m1\u001b[0m\u001b[1;33m,\u001b[0m \u001b[0morder\u001b[0m\u001b[1;33m=\u001b[0m\u001b[0muser_edits_order\u001b[0m\u001b[1;33m)\u001b[0m\u001b[1;33m\u001b[0m\u001b[0m\n\u001b[0m",
        "\u001b[1;31mValueError\u001b[0m: Cannot specify order when the array has no fields."
       ]
      }
     ],
     "prompt_number": 394
    },
    {
     "cell_type": "code",
     "collapsed": false,
     "input": [
      "fems = load_arts(category_name='Category:Feminist_writers')"
     ],
     "language": "python",
     "metadata": {},
     "outputs": [],
     "prompt_number": 22
    },
    {
     "cell_type": "code",
     "collapsed": false,
     "input": [
      "cum_edits = make_cum_edit_series(sar)"
     ],
     "language": "python",
     "metadata": {},
     "outputs": [],
     "prompt_number": 632
    },
    {
     "cell_type": "code",
     "collapsed": false,
     "input": [
      "cum_edits.head()"
     ],
     "language": "python",
     "metadata": {},
     "outputs": [
      {
       "metadata": {},
       "output_type": "pyout",
       "prompt_number": 555,
       "text": [
        "2001-08-31 23:37:28    1\n",
        "2001-09-01 05:09:28    2\n",
        "2001-09-18 10:01:17    3\n",
        "2001-10-27 06:52:45    4\n",
        "2001-10-27 07:01:45    5\n",
        "Name: edits, dtype: int64"
       ]
      }
     ],
     "prompt_number": 555
    },
    {
     "cell_type": "code",
     "collapsed": false,
     "input": [
      "cum_edits.tail()"
     ],
     "language": "python",
     "metadata": {},
     "outputs": [
      {
       "metadata": {},
       "output_type": "pyout",
       "prompt_number": 565,
       "text": [
        "2014-01-29 16:05:15    53254\n",
        "2014-01-29 16:07:09    53255\n",
        "2014-01-29 16:11:43    53256\n",
        "2014-01-29 18:09:44    53257\n",
        "2014-01-29 18:12:09    53258\n",
        "Name: edits, dtype: int64"
       ]
      }
     ],
     "prompt_number": 565
    },
    {
     "cell_type": "code",
     "collapsed": false,
     "input": [
      "dates"
     ],
     "language": "python",
     "metadata": {},
     "outputs": [
      {
       "metadata": {},
       "output_type": "pyout",
       "prompt_number": 568,
       "text": [
        "[Timestamp('2006-06-04 04:46:22', tz=None),\n",
        " Timestamp('2007-01-28 23:53:02', tz=None),\n",
        " Timestamp('2007-09-16 10:52:02', tz=None),\n",
        " Timestamp('2008-04-28 21:20:40', tz=None),\n",
        " Timestamp('2009-04-12 22:07:13', tz=None),\n",
        " Timestamp('2010-04-09 18:45:37', tz=None),\n",
        " Timestamp('2011-03-28 23:38:12', tz=None),\n",
        " Timestamp('2012-05-24 13:44:35', tz=None),\n",
        " Timestamp('2013-03-05 17:57:29', tz=None),\n",
        " Timestamp('2014-01-29 16:05:15', tz=None)]"
       ]
      }
     ],
     "prompt_number": 568
    },
    {
     "cell_type": "code",
     "collapsed": false,
     "input": [
      "ax = cum_edits.plot()\n",
      "ymin, ymax = ax.get_ylim()\n",
      "ax.vlines(x=dates, ymin=ymin, ymax=ymax-1, color='r')"
     ],
     "language": "python",
     "metadata": {},
     "outputs": [
      {
       "metadata": {},
       "output_type": "pyout",
       "prompt_number": 640,
       "text": [
        "<matplotlib.collections.LineCollection at 0x1f362810>"
       ]
      },
      {
       "metadata": {},
       "output_type": "display_data",
       "png": "[encoded data removed]",
       "text": [
        "<matplotlib.figure.Figure at 0x1f362890>"
       ]
      }
     ],
     "prompt_number": 640
    },
    {
     "cell_type": "code",
     "collapsed": false,
     "input": [
      "def plot_cum_edit_series(sar):\n",
      "    '''sar should be an *sorted* by date, all_revisions dataframe like one made by make_revision_df'''\n",
      "    sar['row'] = 1\n",
      "    sar['edits'] = cumsum(sar['row'])\n",
      "    edits = sar['edits']\n",
      "    edits.plot()"
     ],
     "language": "python",
     "metadata": {},
     "outputs": [],
     "prompt_number": 613
    },
    {
     "cell_type": "code",
     "collapsed": false,
     "input": [
      "def make_contributor_matrix(category_name=None, outlinks_page_name=None, as_df=False, wp=enwp):\n",
      "\n",
      "    if category_name:\n",
      "        cat = pywikibot.Category(wp, category_name)\n",
      "        articles = list(cat.articles())\n",
      "        save_name = category_name\n",
      "    if outlinks_page_name:\n",
      "        outlinks = pagegenerators.LinkedPageGenerator(pywikibot.Page(wp, outlinks_page_name))\n",
      "        articles = filter(lambda page: page.namespace() == 0, outlinks)\n",
      "        save_name = outlinks_page_name\n",
      "    \n",
      "    load_article_revisions(articles, wp)\n",
      "\n",
      "    contributor_df = make_dataframe(articles)\n",
      "    \n",
      "    save_name = save_name.replace('/', '___')\n",
      "    filename = 'savedata/' + save_name + unicode(datetime.datetime.now())\n",
      "    \n",
      "    minimum_edits_df = minimum_edits(contributor_df)\n",
      "    \n",
      "    minimum_matrix = minimum_edits_df.as_matrix()\n",
      "    \n",
      "    np.save(filename, minimum_matrix)\n",
      "    \n",
      "    if as_df:\n",
      "        return minimum_edits_df\n",
      "    else:\n",
      "        return minimum_matrix"
     ],
     "language": "python",
     "metadata": {},
     "outputs": [],
     "prompt_number": 17
    },
    {
     "cell_type": "code",
     "collapsed": false,
     "input": [
      "def load_article_revisions(articles, wp):\n",
      "    def earliest_revision(article):\n",
      "        revisions  = list(article._revisions.itervalues())\n",
      "        timestamps = map(lambda r: r.timestamp, revisions)\n",
      "        earliest = min(timestamps)\n",
      "        return earliest\n",
      "    \n",
      "    def load_all_revisions(article, wp):\n",
      "        before_count = len(article._revisions)\n",
      "        #print \"before \", before_count\n",
      "        if before_count == 0:\n",
      "            article.getVersionHistory()\n",
      "        else:\n",
      "            wp.loadrevisions(page=article, starttime=earliest_revision(article))\n",
      "        after_count = len(article._revisions)\n",
      "        #print \"after \", after_count\n",
      "        if before_count == after_count:\n",
      "            return\n",
      "        else:\n",
      "            load_all_revisions(article, wp)\n",
      "        \n",
      "    map(lambda article: load_all_revisions(article, wp), articles)"
     ],
     "language": "python",
     "metadata": {},
     "outputs": [],
     "prompt_number": 21
    },
    {
     "cell_type": "code",
     "collapsed": false,
     "input": [
      "def make_dataframe(articles):\n",
      "    contributor_dict = make_dict_contributors(articles)\n",
      "    contributor_df = pd.DataFrame.from_dict(data = contributor_dict, orient='index')\n",
      "    contributor_df = contributor_df.fillna(value=0)\n",
      "    contributor_df = contributor_df.convert_objects(convert_numeric=True)\n",
      "    \n",
      "    return contributor_df"
     ],
     "language": "python",
     "metadata": {},
     "outputs": [],
     "prompt_number": 14
    },
    {
     "cell_type": "code",
     "collapsed": false,
     "input": [
      "def minimum_edits(contributor_df, minimum=25):\n",
      "    mrows = contributor_df[contributor_df.apply(lambda row: any(row > 25), axis=1)]\n",
      "    #and now we have to clean to columns which are articles that no one contributed to in our remaining group\n",
      "    minimum_edits_df = mrows.loc[:,mrows.apply(lambda col: any(col > 0), axis=0)]\n",
      "    return minimum_edits_df"
     ],
     "language": "python",
     "metadata": {},
     "outputs": [],
     "prompt_number": 15
    }
   ],
   "metadata": {}
  }
 ]
}