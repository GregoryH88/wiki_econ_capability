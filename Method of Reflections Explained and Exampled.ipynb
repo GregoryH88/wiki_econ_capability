{
 "metadata": {
  "name": "",
  "signature": "sha256:ec5d81d551dba0263be374c02960cb9e316b77de1f3dafdc4657ed51f117ccb3"
 },
 "nbformat": 3,
 "nbformat_minor": 0,
 "worksheets": [
  {
   "cells": [
    {
     "cell_type": "markdown",
     "metadata": {},
     "source": [
      "#Method of reflections in python\n",
      "The Method of Reflection (MOR) is a algorithm first coming out of Macroeconomics, that ranks nodes in a bi-partite network. This notebook should hopefully help you implement the _method of reflection_ in python. To be precise, it is the modified algorithm that is proposed by Caldarelli et al., which solves some problems with the original Hidalgo-Hausmann (HH) algorithm [doi:10.1073/pnas.0900943106](http://chidalgo.com/Papers/HidalgoHausmann_PNAS_2009_PaperAndSM.pdf). The main problem with (HH) is that all values converge to a single fixed point after sufficiently many iterations. The Caldarelli version solves this by adding a new term to the recursive equation - what they call a _biased random walker_ (function _G_). [doi: 10.1371/journal.pone.0047278](http://www.plosone.org/article/info%3Adoi%2F10.1371%2Fjournal.pone.0047278). I hadn't seen any open-source implementations of this algorithm, so I thought I'd share my na\u00efve approach."
     ]
    },
    {
     "cell_type": "code",
     "collapsed": false,
     "input": [
      "import datetime\n",
      "import pandas as pd\n",
      "import numpy as np\n",
      "from collections import defaultdict\n",
      "import scipy.stats as ss\n",
      "from scipy.optimize import fmin as scipyfmin\n",
      "import operator\n",
      "import re\n",
      "import json\n",
      "\n",
      "#if you are using ipython and want to see things inline. \n",
      "%pylab inline "
     ],
     "language": "python",
     "metadata": {},
     "outputs": [
      {
       "output_type": "stream",
       "stream": "stdout",
       "text": [
        "Populating the interactive namespace from numpy and matplotlib\n"
       ]
      }
     ],
     "prompt_number": 4
    },
    {
     "cell_type": "markdown",
     "metadata": {},
     "source": [
      "#Modelling the data\n",
      "We want to model a bi-partite network. Since we are using `numpy` and want to operate on a matrix we will use a `numpy.matrix`, but we also may want to retain the Unique IDs associated with each node, so we'll need to keep `dicts` of those as they relate to the matrix indices. Therefore for each bi-partite network at least __three files__ are needed. In my case I analysed a network which was a Wikipedia Category, so my two node-types are _users_ and _articles_. In your case they may be different, but I've kept the nomenclature here for simplicity - my own simplicity 8^). You can borrow my sample data from https://github.com/notconfusing/wiki_econ_capability/tree/master/savedata\n",
      "\n",
      "+ the `M.npy` - an numpy matrix _M_ - adjacently matrix of the network.\n",
      "+ `user_dict.json` - a mapping (json dictionary)between unique key (in my case Wikipedia user name) to _M_ row index.\n",
      "+ `article_dict` - a mapping (json dictionary) between unique key (in my case the name of the article) _M_ column index.\n",
      "\n",
      "##Extra data\n",
      "If you plan to calibrate your model against some exogenous metrics you will need to provide two more files - the rankings from the exogenous data.\n",
      "\n",
      "+ `user_exogenous_ranks.json` - a mapping (json dictionary) between the same keys of the  `user_dict` to their exogenous ranks (how well another metric ranks Wikipedia users).\n",
      "+ `article_exogenous_ranks.json` - a mapping (json dictionary) between the same keys of the  `article_dict` to their exogenous ranks (how well another metric ranks Wikipedia articles).\n",
      "\n",
      "##Putting it all in a folder\n",
      "I put everything belonging to one network into a single folder and then use this `load_files` method which unpacks all the object and gives you a dict of all the objects."
     ]
    },
    {
     "cell_type": "code",
     "collapsed": false,
     "input": [
      "def load_files(folder):\n",
      "    M = np.load(folder+'M.npy')\n",
      "    user_dict = json.load(open(folder+'user_dict.json', 'r'))\n",
      "    article_dict = json.load(open(folder+'article_dict.json', 'r')) \n",
      "    user_exogenous_ranks = json.load(open(folder+'user_exogenous_ranks.json', 'r'))\n",
      "    article_exogenous_ranks = json.load(open(folder+'article_exogenous_ranks.json', 'r'))\n",
      "    return {'M':M,\n",
      "            'user_dict':user_dict,\n",
      "            'article_dict':article_dict,\n",
      "            'user_exogenous_ranks':user_exogenous_ranks, \n",
      "            'article_exogenous_ranks':article_exogenous_ranks}"
     ],
     "language": "python",
     "metadata": {},
     "outputs": [],
     "prompt_number": 2
    },
    {
     "cell_type": "markdown",
     "metadata": {},
     "source": [
      "For instance, let's create the `feminist_data` dict, which holds data from _Category:Feminist_writers_ . I am snapshotting data, so that's why below you see two dates: when the snapshot was taken, and the latest date to be considered in the snapshot. So we are getting the full data from February 18th 2014."
     ]
    },
    {
     "cell_type": "code",
     "collapsed": false,
     "input": [
      "feminist_data = load_files('savedata/Category:Feminist_writers/2014-02-18/2014-02-18/')"
     ],
     "language": "python",
     "metadata": {},
     "outputs": [],
     "prompt_number": 7
    },
    {
     "cell_type": "markdown",
     "metadata": {},
     "source": [
      "Now we define two operations on $M$. The _HH_ technique and those coming after use a binary input matrix, I also got better results, with a binary matrix. So we can normalise all our non-zero data to `1`. Also we may want to take a look at it an see if it has a triangular shape, since (MOR) assumes a triangular matrix."
     ]
    },
    {
     "cell_type": "code",
     "collapsed": false,
     "input": [
      "def make_bin_matrix(M):\n",
      "    #this returns the a matrix with entry True where the original was nonzero, and zero otherwise.\n",
      "    M[M>0] = 1.0\n",
      "    return M\n",
      "\n",
      "def M_test_triangular(M):\n",
      "    user_edits_sum = M.sum(axis=1)\n",
      "    article_edits_sum = M.sum(axis=0)\n",
      "    \n",
      "    user_edits_order = user_edits_sum.argsort()\n",
      "    article_edits_order = article_edits_sum.argsort()\n",
      "    \n",
      "    M_sorted = M[user_edits_order,:]\n",
      "    M_sorted_sorted = M_sorted[:,article_edits_order]\n",
      "    \n",
      "    M_bin = make_bin_matrix(M_sorted_sorted)\n",
      "    \n",
      "    plt.figure(figsize=(10,10))\n",
      "    imshow(M_sorted_sorted, cmap=plt.cm.bone, interpolation='nearest')"
     ],
     "language": "python",
     "metadata": {},
     "outputs": [],
     "prompt_number": 8
    },
    {
     "cell_type": "code",
     "collapsed": false,
     "input": [
      "bin_M = make_bin_matrix(feminist_data['M'])\n",
      "M_test_triangular(bin_M)"
     ],
     "language": "python",
     "metadata": {},
     "outputs": [
      {
       "metadata": {},
       "output_type": "display_data",
       "png": "[encoded data removed]",
       "text": [
        "<matplotlib.figure.Figure at 0x7fd256573090>"
       ]
      }
     ],
     "prompt_number": 10
    },
    {
     "cell_type": "markdown",
     "metadata": {},
     "source": [
      "Ok now let's move onto our third and fourth operations on $M$ - getting some numeric rankings out of the matrix. Let us refresh ourselves on the equations from the literature. (Note variables _c_ and _p_, countries and products, translate to editors and article respectively): \n",
      "\n",
      "##Zeroth order scores\n",
      "These are an $w_{c}$ editor-vector which is the sums of articles edited by each editor. Or the article-vector $w_{p}$, which is the sum of editors contributing to each article.\n",
      "\n",
      "\\begin{cases}\n",
      " w_{c}^{(0)} = \\sum_{p=1}^{N_{p}} M \\equiv k_c\\\\[7pt]\n",
      " w_{p}^{(0)} = \\sum_{c=1}^{N_{c}} M \\equiv k_p\n",
      "\\end{cases}\n",
      "\n",
      "## Higher orders\n",
      "The first order $w^{1}_c$ is the sum of the articles touched, but weighted by the Zeroth order article-vector (and the $G$ term). So if you've edited better articles that counts. And $w^{1}_c$ is the sum of editors touching, but weighted by the Zeroth order editor-vector (and $G$). So if you're touched by better editors that's also being considered. \n",
      "\n",
      "Beyond the first order interpretation for the higher orders is difficult.\n",
      "\n",
      "\\begin{cases}\n",
      "w^{(n+1)}_c (\\alpha,\\beta) = \\sum_{p=1}^{N_p}  G_{cp}(\\beta) \\,w^{(n)}_p (\\alpha,\\beta)\\\\[7pt]\n",
      "w^{(n+1)}_p (\\alpha,\\beta) = \\sum_{c=1}^{N_c}  G_{pc}(\\alpha) \\, w^{(n)}_c (\\alpha,\\beta)\\\\\n",
      "\\end{cases}\n",
      "\n",
      "## G - transition probability function\n",
      "Depending on $\\alpha$ and $\\beta$ we non-linearly weight based on the Zeroth order iterations. \n",
      "\n",
      "\\begin{cases}\n",
      "G_{cp}(\\beta) = \\frac{M_{cp} k_{c}^{-\\beta}}{\\sum_{c' = 1}^{N_c} M_{c'p} k_{c'}^{-\\beta}}\\\\[10pt]\n",
      "G_{pc}(\\alpha) = \\frac{M_{cp} k_{p}^{-\\alpha}}{\\sum_{p' = 1}^{N_p} M_{cp'} k_{p'}^{-\\alpha}}.\\\\\n",
      " \\end{cases}\n",
      "\n",
      "## Translating the mathematics into numpy\n",
      "And now we implement the mathematics in python. Hopefully I got this right, it hasn't been independently verified. Additionally I implement $w$ as a `generator`, so you can go on for many iterations without chewing up too much memory. There is also a stream function that allows you get a specific iteration. And lastly a `find_convergence` function, that checks to see if the rankings haven't shifted for two consecutive iterations."
     ]
    },
    {
     "cell_type": "code",
     "collapsed": false,
     "input": [
      "def Gcp_denominateur(M, p, k_c, beta):\n",
      "    M_p = M[:,p]\n",
      "    k_c_beta = k_c ** (-1 * beta)\n",
      "    return np.dot(M_p, k_c_beta)\n",
      "\n",
      "def Gpc_denominateur(M, c, k_p, alpha):\n",
      "    M_c = M[c,:]\n",
      "    k_p_alpha = k_p ** (-1 * alpha)\n",
      "    return np.dot(M_c, k_p_alpha)\n",
      "\n",
      "\n",
      "def make_G_hat(M, alpha=1, beta=1):\n",
      "    '''G hat is Markov chain of length 2\n",
      "    Gcp is a matrix to go from  contries to product and then \n",
      "    Gpc is a matrix to go from products to ccountries'''\n",
      "    \n",
      "    k_c  = M.sum(axis=1) #aka k_c summing over the rows\n",
      "    k_p = M.sum(axis=0) #aka k_p summering over the columns\n",
      "    \n",
      "    G_cp = np.zeros(shape=M.shape)\n",
      "    #Gcp_beta\n",
      "    for [c, p], val in np.ndenumerate(M):\n",
      "        numerateur = (M[c,p]) * (k_c[c] ** ((-1) * beta))\n",
      "        denominateur = Gcp_denominateur(M, p, k_c, beta)\n",
      "        G_cp[c,p] = numerateur / float(denominateur)\n",
      "    \n",
      "    \n",
      "    G_pc = np.zeros(shape=M.T.shape)\n",
      "    #Gpc_alpha\n",
      "    for [p, c], val in np.ndenumerate(M.T):\n",
      "        numerateur = (M.T[p,c]) * (k_p[p] ** ((-1) * alpha))\n",
      "        denominateur = Gpc_denominateur(M, c, k_p, alpha)\n",
      "        G_pc[p,c] = numerateur / float(denominateur)\n",
      "    \n",
      "    \n",
      "    return {'G_cp': G_cp, \"G_pc\" : G_pc}\n",
      "\n",
      "def w_generator(M, alpha, beta):\n",
      "    #this cannot return the zeroeth iteration\n",
      "    \n",
      "    G_hat = make_G_hat(M, alpha, beta)\n",
      "    G_cp = G_hat['G_cp']\n",
      "    G_pc = G_hat['G_pc']\n",
      "    #\n",
      "\n",
      "    fitness_0  = np.sum(M,1)\n",
      "    ubiquity_0 = np.sum(M,0)\n",
      "    \n",
      "    fitness_next = fitness_0\n",
      "    ubiquity_next = ubiquity_0\n",
      "    i = 0\n",
      "    \n",
      "    while True:\n",
      "        \n",
      "        fitness_prev = fitness_next\n",
      "        ubiquity_prev = ubiquity_next\n",
      "        i += 1\n",
      "        \n",
      "        fitness_next = np.sum( G_cp*ubiquity_prev, axis=1 )\n",
      "        ubiquity_next = np.sum( G_pc* fitness_prev, axis=1 )\n",
      "        \n",
      "        yield {'iteration':i, 'fitness': fitness_next, 'ubiquity': ubiquity_next}\n",
      "        \n",
      "\n",
      "\n",
      "def w_stream(M, i, alpha, beta):\n",
      "    \"\"\"gets the i'th iteration of reflections of M, \n",
      "    but in a memory safe way so we can calculate many generations\"\"\"\n",
      "    if i < 0:\n",
      "        raise ValueError\n",
      "    for j in w_generator(M, alpha, beta):\n",
      "        if j[0] == i:\n",
      "            return {'fitness': j[1], 'ubiquity': j[2]}\n",
      "            break\n",
      "            \n",
      "def find_convergence(M, alpha, beta, fit_or_ubiq, do_plot=False,):\n",
      "    '''finds the convergence point (or gives up after 1000 iterations)'''\n",
      "    if fit_or_ubiq == 'fitness':\n",
      "        Mshape = M.shape[0]\n",
      "    elif fit_or_ubiq == 'ubiquity':\n",
      "        Mshape = M.shape[1]\n",
      "    \n",
      "    rankings = list()\n",
      "    scores = list()\n",
      "    \n",
      "    prev_rankdata = np.zeros(Mshape)\n",
      "    iteration = 0\n",
      "\n",
      "    for stream_data in w_generator(M, alpha, beta):\n",
      "        iteration = stream_data['iteration']\n",
      "        \n",
      "        data = stream_data[fit_or_ubiq]\n",
      "        rankdata = data.argsort().argsort()\n",
      "        \n",
      "        #test for convergence\n",
      "        if np.equal(rankdata,prev_rankdata).all():\n",
      "            break\n",
      "        if iteration == 1000:\n",
      "            break\n",
      "        else:\n",
      "            rankings.append(rankdata)\n",
      "            scores.append(data)\n",
      "            prev_rankdata = rankdata\n",
      "            \n",
      "    if do_plot:\n",
      "        plt.figure(figsize=(iteration/10, Mshape / 20))\n",
      "        plt.xlabel('Iteration')\n",
      "        plt.ylabel('Rank, higher is better')\n",
      "        plt.title('Rank Evolution')\n",
      "        p = semilogx(range(1,iteration), rankings, '-,', alpha=0.5)\n",
      "    return {fit_or_ubiq:scores[-1], 'iteration':iteration}"
     ],
     "language": "python",
     "metadata": {},
     "outputs": [],
     "prompt_number": 71
    },
    {
     "cell_type": "markdown",
     "metadata": {},
     "source": [
      "We also know from Caldarelli et al. that there is an analytic formulation to the recursive procedure. So if you want to save some (a lot) processing and just know the end result we can use:\n",
      "\n",
      "## Analytic solution\n",
      "\n",
      "\\begin{cases}\n",
      "w^{*}_e (\\alpha,\\beta) = (\\sum_{a=1}^{N_a} M_{ea}k_{a}^{-\\alpha})k_{e}^{-\\beta} \\\\\n",
      "w^{*}_a (\\alpha,\\beta) = (\\sum_{e=1}^{N_e}  M_{ea}k_{e}^{-\\beta})k_{a}^{-\\alpha}\\\\\n",
      "\\end{cases}\n",
      "\n",
      "And again in python:"
     ]
    },
    {
     "cell_type": "code",
     "collapsed": false,
     "input": [
      "def w_star_analytic(M, alpha, beta, w_star_type):\n",
      "    k_c  = M.sum(axis=1) #aka k_c summing over the rows\n",
      "    k_p = M.sum(axis=0) #aka k_p summering over the columns\n",
      "    \n",
      "    A = 1\n",
      "    B = 1\n",
      "    \n",
      "    def Gcp_denominateur(M, p, k_c, beta):\n",
      "        M_p = M[:,p]\n",
      "        k_c_beta = k_c ** (-1 * beta)\n",
      "        return np.dot(M_p, k_c_beta)\n",
      "    \n",
      "    def Gpc_denominateur(M, c, k_p, alpha):\n",
      "        M_c = M[c,:]\n",
      "        k_p_alpha = k_p ** (-1 * alpha)\n",
      "        return np.dot(M_c, k_p_alpha)\n",
      "    \n",
      "    if w_star_type == 'w_star_c':\n",
      "        w_star_c = np.zeros(shape=M.shape[0])\n",
      "\n",
      "        for c in range(M.shape[0]):\n",
      "            summand = Gpc_denominateur(M, c, k_p, alpha)\n",
      "            k_beta = (k_c[c] ** (-1 * beta))\n",
      "            w_star_c[c] = A * summand * k_beta\n",
      "\n",
      "        return w_star_c\n",
      "    \n",
      "    elif w_star_type == 'w_star_p':\n",
      "        w_star_p = np.zeros(shape=M.shape[1])\n",
      "    \n",
      "        for p in range(M.shape[1]):\n",
      "            summand = Gcp_denominateur(M, p, k_c, beta)\n",
      "            k_alpha = (k_p[p] ** (-1 * alpha))\n",
      "            w_star_p[p] = B * summand * k_alpha\n",
      "    \n",
      "        return w_star_p"
     ],
     "language": "python",
     "metadata": {},
     "outputs": [],
     "prompt_number": 13
    },
    {
     "cell_type": "markdown",
     "metadata": {},
     "source": [
      "## Running the iterative and analytic solutions on data.\n",
      "We will run our algorithms on our data. The output of both the iterative and the analytic solutions are a list of scores. So in order to know who was the best, we afterwards identify (this is why we need the ID-mapping) and sort the identified list. I use `pandas` here to simply life, but I've also done it in pure-python if you're not familiar with `pandas`. Also I arbitrarily use $(\\alpha, \\beta) = (0,0)$.\n",
      "\n",
      "###First lets use the analytic solution."
     ]
    },
    {
     "cell_type": "code",
     "collapsed": false,
     "input": [
      "#purer python\n",
      "#score\n",
      "w_scores = w_star_analytic(M=feminist_data['M'], alpha=0.5, beta=0.5, w_star_type='w_star_c')\n",
      "#identify\n",
      "w_ranks = {name: w_scores[pos] for name, pos in feminist_data['user_dict'].iteritems() }\n",
      "#sort\n",
      "w_ranks_sorted = sorted(w_ranks.iteritems(), key=operator.itemgetter(1))\n",
      "\n",
      "#or use pandas\n",
      "w_scores_df = pd.DataFrame.from_dict(w_ranks, orient='index')\n",
      "w_scores_df.columns = ['w_score']\n",
      "w_scores_df.sort(columns=['w_score'], ascending=False).head()"
     ],
     "language": "python",
     "metadata": {},
     "outputs": [
      {
       "html": [
        "<div style=\"max-height:1000px;max-width:1500px;overflow:auto;\">\n",
        "<table border=\"1\" class=\"dataframe\">\n",
        "  <thead>\n",
        "    <tr style=\"text-align: right;\">\n",
        "      <th></th>\n",
        "      <th>w_score</th>\n",
        "    </tr>\n",
        "  </thead>\n",
        "  <tbody>\n",
        "    <tr>\n",
        "      <th>Dsp13</th>\n",
        "      <td> 2.230387</td>\n",
        "    </tr>\n",
        "    <tr>\n",
        "      <th>Bearcat</th>\n",
        "      <td> 2.107264</td>\n",
        "    </tr>\n",
        "    <tr>\n",
        "      <th>Johnpacklambert</th>\n",
        "      <td> 2.047463</td>\n",
        "    </tr>\n",
        "    <tr>\n",
        "      <th>Solar-Wind</th>\n",
        "      <td> 1.952138</td>\n",
        "    </tr>\n",
        "    <tr>\n",
        "      <th>Treybien</th>\n",
        "      <td> 1.850515</td>\n",
        "    </tr>\n",
        "  </tbody>\n",
        "</table>\n",
        "<p>5 rows \u00d7 1 columns</p>\n",
        "</div>"
       ],
       "metadata": {},
       "output_type": "pyout",
       "prompt_number": 25,
       "text": [
        "                  w_score\n",
        "Dsp13            2.230387\n",
        "Bearcat          2.107264\n",
        "Johnpacklambert  2.047463\n",
        "Solar-Wind       1.952138\n",
        "Treybien         1.850515\n",
        "\n",
        "[5 rows x 1 columns]"
       ]
      }
     ],
     "prompt_number": 25
    },
    {
     "cell_type": "markdown",
     "metadata": {},
     "source": [
      "Well done users _Dsp13_ and _Bearcat_. If you look up these user's on English Wikipedia, you can see at a glance they are accomplished editors - so this is also a good sanity check. (Isn't there a Mogwai video called _Bearcat_? Oh, no it's [Batcat](https://www.youtube.com/watch?v=KMDCM5OAOaE) \\\\m/ never mind let's move on.) \n",
      "\n",
      "##Verification with the iterative method.\n",
      "Let's take the long way home, and check that the shortcut actually takes us to the right place. We use the iterative method with the same data, until we find convergence. Also I make a plot here of the ranks of the users after each iteration, so we can track them. So each line you see is the history of user's rise to Glory, or their slow decline to forgotten irrelevance (or none of those phenomenon). Actually if you see a user going up its because the value of the articles edited is increasing. And likewise if a user is losing standing, its because they edited a lot of articles, but were of poor quality."
     ]
    },
    {
     "cell_type": "code",
     "collapsed": false,
     "input": [
      "convergence = find_convergence(M=feminist_data['M'], alpha=0.5, beta=0.5, fit_or_ubiq='fitness', do_plot=True)"
     ],
     "language": "python",
     "metadata": {},
     "outputs": []
    },
    {
     "cell_type": "code",
     "collapsed": false,
     "input": [
      "convergence['iteration']"
     ],
     "language": "python",
     "metadata": {},
     "outputs": [
      {
       "metadata": {},
       "output_type": "pyout",
       "prompt_number": 41,
       "text": [
        "661"
       ]
      }
     ],
     "prompt_number": 41
    },
    {
     "cell_type": "markdown",
     "metadata": {},
     "source": [
      "It looks like it took 661 iterations for this particular network to converge with $(\\alpha, \\beta) = (0,0)$. Now, let's what the ranking produce."
     ]
    },
    {
     "cell_type": "code",
     "collapsed": false,
     "input": [
      "w_iter = convergence['fitness'] \n",
      "#rank\n",
      "w_iter_ranks = {name: w_iter[pos] for name, pos in feminist_data['user_dict'].iteritems() }\n",
      "#sort\n",
      "w_ranks_sorted = sorted(w_iter_ranks.iteritems(), key=operator.itemgetter(1))\n",
      "\n",
      "#or use pandas\n",
      "w_iter_scores_df = pd.DataFrame.from_dict(w_iter_ranks, orient='index')\n",
      "w_iter_scores_df.columns = ['w_score']\n",
      "w_iter_scores_df.sort(columns=['w_score'], ascending=False).head()"
     ],
     "language": "python",
     "metadata": {},
     "outputs": [
      {
       "html": [
        "<div style=\"max-height:1000px;max-width:1500px;overflow:auto;\">\n",
        "<table border=\"1\" class=\"dataframe\">\n",
        "  <thead>\n",
        "    <tr style=\"text-align: right;\">\n",
        "      <th></th>\n",
        "      <th>w_score</th>\n",
        "    </tr>\n",
        "  </thead>\n",
        "  <tbody>\n",
        "    <tr>\n",
        "      <th>Dsp13</th>\n",
        "      <td> 30.640203</td>\n",
        "    </tr>\n",
        "    <tr>\n",
        "      <th>Bearcat</th>\n",
        "      <td> 28.948788</td>\n",
        "    </tr>\n",
        "    <tr>\n",
        "      <th>Johnpacklambert</th>\n",
        "      <td> 28.127272</td>\n",
        "    </tr>\n",
        "    <tr>\n",
        "      <th>Solar-Wind</th>\n",
        "      <td> 26.817729</td>\n",
        "    </tr>\n",
        "    <tr>\n",
        "      <th>Treybien</th>\n",
        "      <td> 25.421677</td>\n",
        "    </tr>\n",
        "  </tbody>\n",
        "</table>\n",
        "<p>5 rows \u00d7 1 columns</p>\n",
        "</div>"
       ],
       "metadata": {},
       "output_type": "pyout",
       "prompt_number": 47,
       "text": [
        "                   w_score\n",
        "Dsp13            30.640203\n",
        "Bearcat          28.948788\n",
        "Johnpacklambert  28.127272\n",
        "Solar-Wind       26.817729\n",
        "Treybien         25.421677\n",
        "\n",
        "[5 rows x 1 columns]"
       ]
      }
     ],
     "prompt_number": 47
    },
    {
     "cell_type": "markdown",
     "metadata": {},
     "source": [
      "Verified. You can see the analytic and iterative methods produce the same ranking, but the scores are off by a normalisation constant.\n",
      "\n",
      "## Calibration with exogenous variables.\n",
      "\n",
      "Lastly, we might want to know what values of $alpha$ and $beta$ maximise our correlation between model and actual. Without resorting to any fancy optimisers, let's just perform a grid-search. With a grid-serch we can also get a picture of the landscape. We define a way to compare our list rankings using the Spearman method from `scipy.stats`. Then we'll make a landscape of $[-2,2] \\times [-2,2]$ with resolution $50 \\times 50$, and evaluate at all those points (using the analytic method). Finally we will return the top correlation we found."
     ]
    },
    {
     "cell_type": "code",
     "collapsed": false,
     "input": [
      "'''I'm sure this can be done much more elegantly\n",
      "but this was sort-of drink-a-lot-of-coffee-one-afternoon-and-get-it-done\n",
      "cleaning this up is an exercise for the reader'''\n",
      "\n",
      "def rank_comparison(a_ranks_sorted, b_ranks_sorted, do_plot=False):\n",
      "    a_list = list()\n",
      "    b_list = list()\n",
      "    for atup in a_ranks_sorted:\n",
      "        aiden = atup[0]\n",
      "        apos = atup[1]\n",
      "        #find this in our other list\n",
      "        for btup in b_ranks_sorted:\n",
      "            biden = btup[0]\n",
      "            bpos = btup[1]\n",
      "            if aiden == biden:\n",
      "                a_list.append(apos)\n",
      "                b_list.append(bpos)\n",
      "    if do_plot:    \n",
      "        plt.figure(figsize=(10,20))\n",
      "        plot([1,2], [a_list, b_list], '-o')\n",
      "        plt.show()\n",
      "    \n",
      "    return ss.spearmanr(a_list, b_list)\n",
      "\n",
      "def calibrate_analytic(M, ua, exogenous_ranks_sorted, user_or_art_dict, index_function, title, do_plot=False):\n",
      "    \n",
      "    if ua == 'users':\n",
      "        w_star_type = 'w_star_c'\n",
      "    elif ua == 'articles':\n",
      "        w_star_type = 'w_star_p'\n",
      "    \n",
      "    squarelen = range(0,50)\n",
      "    \n",
      "    alpha_range = map(index_function,squarelen)\n",
      "    beta_range = map(index_function,squarelen)\n",
      "    landscape = np.zeros(shape=(len(list(alpha_range)),len(list(beta_range))))\n",
      "\n",
      "    top_spearman = {'spearman':None,'alpha':None, 'beta':None, 'ua':ua}\n",
      "\n",
      "    for alpha_index, alpha in enumerate(alpha_range):\n",
      "        for beta_index, beta in enumerate(beta_range):\n",
      "            \n",
      "            w_converged = w_star_analytic(M, alpha, beta, w_star_type)\n",
      "            \n",
      "            w_ranks = {name: w_converged[pos] for name, pos in user_or_art_dict.iteritems() }\n",
      "            w_ranks_sorted = sorted(w_ranks.iteritems(), key=operator.itemgetter(1))\n",
      "            \n",
      "            spearman = rank_comparison(w_ranks_sorted, exogenous_ranks_sorted)\n",
      "\n",
      "            if spearman[1] < 0.05:\n",
      "                landscape[alpha_index][beta_index] = spearman[0]\n",
      "                \n",
      "                if (not top_spearman['spearman']) or (spearman[0] > top_spearman['spearman']):\n",
      "                    top_spearman['spearman'] = spearman[0]\n",
      "                    top_spearman['alpha'] = alpha\n",
      "                    top_spearman['beta'] = beta\n",
      "            else:\n",
      "                landscape[alpha_index][beta_index] = np.nan\n",
      "\n",
      "    if do_plot:\n",
      "        plt.figure(figsize=(10,10))\n",
      "        heatmap = imshow(landscape, interpolation='nearest', vmin=-1, vmax=1)\n",
      "        #heatmap = plt.pcolor(landscape)\n",
      "        colorbar = plt.colorbar(heatmap)\n",
      "        plt.xlabel(r'$ \\beta $')\n",
      "        plt.xticks(squarelen, beta_range, rotation=90)\n",
      "        plt.ylabel(r'$ \\alpha $')\n",
      "        plt.yticks(squarelen, alpha_range)\n",
      "        plt.title(title)\n",
      "        \n",
      "        landscape_file = open(title+'_landscape.npy', 'w')\n",
      "        np.save(landscape_file, landscape)\n",
      "        plt.savefig(title+'_landscape.eps')\n",
      "\n",
      "    return top_spearman"
     ],
     "language": "python",
     "metadata": {},
     "outputs": [],
     "prompt_number": 67
    },
    {
     "cell_type": "markdown",
     "metadata": {},
     "source": [
      "Ok, now let's run the calibration and get our optimising variables."
     ]
    },
    {
     "cell_type": "code",
     "collapsed": false,
     "input": [
      "user_spearman = calibrate_analytic(M=make_bin_matrix(feminist_data['M']),\n",
      "                                   ua='users',\n",
      "                                   exogenous_ranks_sorted=feminist_data['user_exogenous_ranks'],\n",
      "                                   user_or_art_dict=feminist_data['user_dict'],\n",
      "                                   index_function=lambda x: (x-25)/12.5, \n",
      "                                   title='Grid Search for User of Feminist Writers',\n",
      "                                   do_plot=True)"
     ],
     "language": "python",
     "metadata": {},
     "outputs": []
    },
    {
     "cell_type": "markdown",
     "metadata": {},
     "source": [
      "Note that the white parts of the gridsearch are where the Spearman rho value was not significant using 0.05 as a threshold."
     ]
    },
    {
     "cell_type": "code",
     "collapsed": false,
     "input": [
      "print('Optimizing points from gridsearch', \n",
      "      'rho:', user_spearman['spearman'], \n",
      "      'alpha', user_spearman['alpha'], \n",
      "      'beta', user_spearman['beta'] )"
     ],
     "language": "python",
     "metadata": {},
     "outputs": [
      {
       "output_type": "stream",
       "stream": "stdout",
       "text": [
        "('Optimizing points from gridsearch', 'rho:', 0.6923148495709821, 'alpha', 0.0, 'beta', -2.0)\n"
       ]
      }
     ],
     "prompt_number": 60
    },
    {
     "cell_type": "markdown",
     "metadata": {},
     "source": [
      "Well it looks like this optimising point occurs on the boundary. But we can see also that $\\{\\alpha, \\beta |\\alpha = 0, \\beta < 1\\}$ seems to be an optimising solution set ripe for further investigation. \n",
      "\n",
      "#Conclusion\n",
      "I hope this allows you to see how Method of Reflections works, and - importantly - how to translate it into different domains. Anywhere you have a bi-partite network you can start ranking nodes using this technique! And if you have some exogenous data, you can also calibrate your model. Please alert me if there are any mistakes in here.\n",
      "\n",
      "##License\n",
      "\n",
      "The MIT License (MIT)\n",
      "\n",
      "Copyright \u00a9 2014 Max Klein aka notconfusing\u203d\n",
      "\n",
      "Permission is hereby granted, free of charge, to any person obtaining a copy of this software and associated documentation files (the \"Software\"), to deal in the Software without restriction, including without limitation the rights to use, copy, modify, merge, publish, distribute, sublicense, and/or sell copies of the Software, and to permit persons to whom the Software is furnished to do so, subject to the following conditions:\n",
      "\n",
      "The above copyright notice and this permission notice shall be included in all copies or substantial portions of the Software.\n",
      "\n",
      "THE SOFTWARE IS PROVIDED \"AS IS\", WITHOUT WARRANTY OF ANY KIND, EXPRESS OR IMPLIED, INCLUDING BUT NOT LIMITED TO THE WARRANTIES OF MERCHANTABILITY, FITNESS FOR A PARTICULAR PURPOSE AND NONINFRINGEMENT. IN NO EVENT SHALL THE AUTHORS OR COPYRIGHT HOLDERS BE LIABLE FOR ANY CLAIM, DAMAGES OR OTHER LIABILITY, WHETHER IN AN ACTION OF CONTRACT, TORT OR OTHERWISE, ARISING FROM, OUT OF OR IN CONNECTION WITH THE SOFTWARE OR THE USE OR OTHER DEALINGS IN THE SOFTWARE.\n"
     ]
    },
    {
     "cell_type": "code",
     "collapsed": false,
     "input": [],
     "language": "python",
     "metadata": {},
     "outputs": []
    }
   ],
   "metadata": {}
  }
 ]
}